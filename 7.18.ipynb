{
 "cells": [
  {
   "cell_type": "markdown",
   "metadata": {},
   "source": [
    "# 选择\n",
    "## 布尔类型、数值和表达式\n",
    "![](../Photo/33.png)\n",
    "- 注意：比较运算符的相等是两个等号，一个等到代表赋值\n",
    "- 在Python中可以用整型0来代表False，其他数字来代表True\n",
    "- 后面还会讲到 is 在判断语句中的用发"
   ]
  },
  {
   "cell_type": "markdown",
   "metadata": {},
   "source": [
    "## 字符串的比较使用ASCII值"
   ]
  },
  {
   "cell_type": "markdown",
   "metadata": {},
   "source": [
    "## Markdown \n",
    "- https://github.com/younghz/Markdown"
   ]
  },
  {
   "cell_type": "markdown",
   "metadata": {},
   "source": [
    "## EP:\n",
    "- <img src=\"../Photo/34.png\"></img>\n",
    "- 输入一个数字，判断其实奇数还是偶数"
   ]
  },
  {
   "cell_type": "code",
   "execution_count": 2,
   "metadata": {},
   "outputs": [
    {
     "name": "stdout",
     "output_type": "stream",
     "text": [
      "True\n"
     ]
    }
   ],
   "source": [
    "b1=bool(4)\n",
    "print(b1)"
   ]
  },
  {
   "cell_type": "code",
   "execution_count": 29,
   "metadata": {},
   "outputs": [
    {
     "name": "stdout",
     "output_type": "stream",
     "text": [
      "6\n"
     ]
    }
   ],
   "source": [
    "a=eval('2*3')\n",
    "print(a)"
   ]
  },
  {
   "cell_type": "code",
   "execution_count": 1,
   "metadata": {},
   "outputs": [
    {
     "name": "stdout",
     "output_type": "stream",
     "text": [
      "True\n"
     ]
    }
   ],
   "source": [
    "b1=bool(4)\n",
    "print(b1)"
   ]
  },
  {
   "cell_type": "code",
   "execution_count": 3,
   "metadata": {},
   "outputs": [
    {
     "data": {
      "text/plain": [
       "True"
      ]
     },
     "execution_count": 3,
     "metadata": {},
     "output_type": "execute_result"
    }
   ],
   "source": [
    "bool(4)"
   ]
  },
  {
   "cell_type": "code",
   "execution_count": 5,
   "metadata": {},
   "outputs": [
    {
     "name": "stdout",
     "output_type": "stream",
     "text": [
      "输入一个数字：7865321\n",
      "奇数\n"
     ]
    }
   ],
   "source": [
    "x=eval(input('输入一个数字：'))\n",
    "if x%2==0:\n",
    "    print('偶数')\n",
    "else:\n",
    "    print('奇数')"
   ]
  },
  {
   "cell_type": "markdown",
   "metadata": {},
   "source": [
    "## 产生随机数字\n",
    "- 函数random.randint(a,b) 可以用来产生一个a和b之间且包括a和b的随机整数"
   ]
  },
  {
   "cell_type": "code",
   "execution_count": 22,
   "metadata": {},
   "outputs": [],
   "source": [
    "import random"
   ]
  },
  {
   "cell_type": "code",
   "execution_count": 11,
   "metadata": {},
   "outputs": [
    {
     "data": {
      "text/plain": [
       "3"
      ]
     },
     "execution_count": 11,
     "metadata": {},
     "output_type": "execute_result"
    }
   ],
   "source": [
    "random.randint(2,3)"
   ]
  },
  {
   "cell_type": "markdown",
   "metadata": {},
   "source": [
    "产生一个随机数，你去输入，如果你输入的数大于随机数，那么就告诉你太大了，反之，太小了，\n",
    "然后你一直输入，知道它满意为止"
   ]
  },
  {
   "cell_type": "code",
   "execution_count": 24,
   "metadata": {},
   "outputs": [],
   "source": [
    "a=random.randint(1,16)"
   ]
  },
  {
   "cell_type": "code",
   "execution_count": 15,
   "metadata": {},
   "outputs": [
    {
     "name": "stdout",
     "output_type": "stream",
     "text": [
      "输入一个数：14\n",
      "满意\n"
     ]
    }
   ],
   "source": [
    "b=eval(input('输入一个数：'))\n",
    "if b>a:\n",
    "    print('太大了')\n",
    "if b<a:\n",
    "    print('太小了')\n",
    "if b==a:\n",
    "    print('满意')"
   ]
  },
  {
   "cell_type": "code",
   "execution_count": 33,
   "metadata": {},
   "outputs": [
    {
     "name": "stdout",
     "output_type": "stream",
     "text": [
      "输入一个数：14\n",
      "太大了\n",
      "输入一个数：16\n",
      "太大了\n",
      "输入一个数：10\n",
      "太小了\n",
      "输入一个数：13\n",
      "太大了\n",
      "输入一个数：12\n",
      "太大了\n",
      "输入一个数：11\n",
      "满意\n"
     ]
    }
   ],
   "source": [
    "import random\n",
    "a=random.randint(1,16)\n",
    "while 1:\n",
    "    b=eval(input('输入一个数：'))\n",
    "    if b>a:\n",
    "        print('太大了')\n",
    "    if b<a:\n",
    "        print('太小了')\n",
    "    if b==a:\n",
    "        print('满意')\n",
    "        break"
   ]
  },
  {
   "cell_type": "markdown",
   "metadata": {},
   "source": [
    "##  其他random方法\n",
    "- random.random 返回0.0到1.0之间前闭后开区间的随机浮点\n",
    "- random.randrange(a,b) 前闭后开"
   ]
  },
  {
   "cell_type": "markdown",
   "metadata": {},
   "source": [
    "## EP：\n",
    "- 产生两个随机整数number1和number2，然后显示给用户，使用户输入数字的和，并判定其是否正确\n",
    "- 进阶:写一个随机序号点名程序"
   ]
  },
  {
   "cell_type": "code",
   "execution_count": 2,
   "metadata": {},
   "outputs": [],
   "source": [
    "import random"
   ]
  },
  {
   "cell_type": "code",
   "execution_count": 3,
   "metadata": {},
   "outputs": [
    {
     "name": "stdout",
     "output_type": "stream",
     "text": [
      "输入数字的和：14\n",
      "太小了\n",
      "输入数字的和：13\n",
      "太小了\n",
      "输入数字的和：12\n",
      "太小了\n",
      "输入数字的和：18\n",
      "太小了\n",
      "输入数字的和：20\n",
      "太小了\n"
     ]
    }
   ],
   "source": [
    "num1=random.randint(0,100)\n",
    "num2=random.randint(0,100)\n",
    "b=num1+num2\n",
    "number=0\n",
    "while number<5:\n",
    "    a=eval(input('输入数字的和：'))\n",
    "    if a>b:\n",
    "        print('太大了')\n",
    "    if a<b:\n",
    "        print('太小了')\n",
    "    if a==b:\n",
    "        print('满意')\n",
    "        break\n",
    "    number+=1"
   ]
  },
  {
   "cell_type": "code",
   "execution_count": 5,
   "metadata": {},
   "outputs": [
    {
     "name": "stdout",
     "output_type": "stream",
     "text": [
      "输入数字的和：15\n",
      "Error\n",
      "输入数字的和：40\n",
      "Error\n",
      "输入数字的和：96\n",
      "Error\n",
      "输入数字的和：70\n",
      "Error\n",
      "输入数字的和：5\n",
      "Error\n"
     ]
    }
   ],
   "source": [
    "num1=random.randint(0,100)\n",
    "num2=random.randint(0,100)\n",
    "b=num1+num2\n",
    "for i in range(5):\n",
    "    a=eval(input('输入数字的和：'))\n",
    "    if a ==b:\n",
    "        print('Correct')\n",
    "        break\n",
    "    else:\n",
    "        print('Error')"
   ]
  },
  {
   "cell_type": "code",
   "execution_count": 10,
   "metadata": {},
   "outputs": [
    {
     "name": "stdout",
     "output_type": "stream",
     "text": [
      "输入一个数字：98\n",
      "1 可以整除\n",
      "2 可以整除\n",
      "7 可以整除\n",
      "14 可以整除\n",
      "49 可以整除\n",
      "98 可以整除\n"
     ]
    }
   ],
   "source": [
    "a=eval(input('输入一个数字：'))\n",
    "for i in range(1,100):\n",
    "    if a%i ==0:\n",
    "        print(i,'可以整除')"
   ]
  },
  {
   "cell_type": "markdown",
   "metadata": {},
   "source": [
    "## if语句\n",
    "- 如果条件正确就执行一个单向if语句，亦即当条件为真的时候才执行if内部的语句\n",
    "- Python有很多选择语句:\n",
    "> - 单向if \n",
    "  - 双向if-else\n",
    "  - 嵌套if\n",
    "  - 多向if-elif-else\n",
    "  \n",
    "- 注意：当语句含有子语句的时候，那么一定至少要有一个缩进，也就是说如果有儿子存在，那么一定要缩进\n",
    "- 切记不可tab键和space混用，单用tab 或者 space\n",
    "- 当你输出的结果是无论if是否为真时都需要显示时，语句应该与if对齐"
   ]
  },
  {
   "cell_type": "markdown",
   "metadata": {},
   "source": [
    "## EP：\n",
    "- 用户输入一个数字，判断其实奇数还是偶数\n",
    "- 进阶：可以查看下4.5实例研究猜生日"
   ]
  },
  {
   "cell_type": "markdown",
   "metadata": {},
   "source": [
    "## 双向if-else 语句\n",
    "- 如果条件为真，那么走if内部语句，否则走else内部语句"
   ]
  },
  {
   "cell_type": "code",
   "execution_count": 2,
   "metadata": {},
   "outputs": [
    {
     "name": "stdout",
     "output_type": "stream",
     "text": [
      "有钱吗？：有\n",
      "帅不帅？：帅\n",
      "有没有老婆？：有\n",
      "滚\n"
     ]
    }
   ],
   "source": [
    "a=input('有钱吗？：')\n",
    "a1='有'\n",
    "b1='帅'\n",
    "c1='没老婆'\n",
    "if a==a1:\n",
    "    b=input('帅不帅？：')\n",
    "    if b==b1:\n",
    "        c=input('有没有老婆？：')\n",
    "        if c==c1:\n",
    "            print('见一面')\n",
    "        else:\n",
    "            print('滚')\n",
    "    else:\n",
    "        print('拉到')\n",
    "else:\n",
    "    print('拜拜')"
   ]
  },
  {
   "cell_type": "markdown",
   "metadata": {},
   "source": [
    "## EP：\n",
    "- 产生两个随机整数number1和number2，然后显示给用户，使用户输入数字，并判定其是否正确,如果正确打印“you‘re correct”，否则打印正确错误"
   ]
  },
  {
   "cell_type": "markdown",
   "metadata": {},
   "source": [
    "## 嵌套if 和多向if-elif-else\n",
    "![](../Photo/35.png)"
   ]
  },
  {
   "cell_type": "code",
   "execution_count": 6,
   "metadata": {
    "scrolled": true
   },
   "outputs": [
    {
     "name": "stdout",
     "output_type": "stream",
     "text": [
      "有钱吗？：没有\n"
     ]
    },
    {
     "ename": "NameError",
     "evalue": "name '没有' is not defined",
     "output_type": "error",
     "traceback": [
      "\u001b[1;31m---------------------------------------------------------------------------\u001b[0m",
      "\u001b[1;31mNameError\u001b[0m                                 Traceback (most recent call last)",
      "\u001b[1;32m<ipython-input-6-03b7c5a58795>\u001b[0m in \u001b[0;36m<module>\u001b[1;34m\u001b[0m\n\u001b[1;32m----> 1\u001b[1;33m \u001b[0ma\u001b[0m\u001b[1;33m=\u001b[0m\u001b[0meval\u001b[0m\u001b[1;33m(\u001b[0m\u001b[0minput\u001b[0m\u001b[1;33m(\u001b[0m\u001b[1;34m'有钱吗？：'\u001b[0m\u001b[1;33m)\u001b[0m\u001b[1;33m)\u001b[0m\u001b[1;33m\u001b[0m\u001b[1;33m\u001b[0m\u001b[0m\n\u001b[0m\u001b[0;32m      2\u001b[0m \u001b[1;32mif\u001b[0m \u001b[0ma\u001b[0m\u001b[1;33m==\u001b[0m\u001b[1;34m'有'\u001b[0m\u001b[1;33m:\u001b[0m\u001b[1;33m\u001b[0m\u001b[1;33m\u001b[0m\u001b[0m\n\u001b[0;32m      3\u001b[0m     \u001b[0mgrade\u001b[0m\u001b[1;33m=\u001b[0m\u001b[1;34m'帅不帅'\u001b[0m\u001b[1;33m\u001b[0m\u001b[1;33m\u001b[0m\u001b[0m\n\u001b[0;32m      4\u001b[0m \u001b[1;32melse\u001b[0m\u001b[1;33m:\u001b[0m\u001b[1;33m\u001b[0m\u001b[1;33m\u001b[0m\u001b[0m\n\u001b[0;32m      5\u001b[0m     \u001b[1;32mif\u001b[0m \u001b[0ma\u001b[0m\u001b[1;33m!=\u001b[0m\u001b[1;34m'有'\u001b[0m\u001b[1;33m:\u001b[0m\u001b[1;33m\u001b[0m\u001b[1;33m\u001b[0m\u001b[0m\n",
      "\u001b[1;32m<string>\u001b[0m in \u001b[0;36m<module>\u001b[1;34m\u001b[0m\n",
      "\u001b[1;31mNameError\u001b[0m: name '没有' is not defined"
     ]
    }
   ],
   "source": [
    "a=eval(input('有钱吗？：'))\n",
    "if a=='有':\n",
    "    grade='帅不帅'\n",
    "elif:\n",
    "    if a=='有':\n",
    "        grade='再见'"
   ]
  },
  {
   "cell_type": "markdown",
   "metadata": {},
   "source": [
    "## EP：\n",
    "- 提示用户输入一个年份，然后显示表示这一年的动物\n",
    "![](../Photo/36.png)\n",
    "- 计算身体质量指数的程序\n",
    "- BMI = 以千克为单位的体重除以以米为单位的身高的平方\n",
    "![](../Photo/37.png)"
   ]
  },
  {
   "cell_type": "code",
   "execution_count": 8,
   "metadata": {},
   "outputs": [
    {
     "name": "stdout",
     "output_type": "stream",
     "text": [
      "输入一个年份1932\n",
      "猴\n"
     ]
    }
   ],
   "source": [
    "a=eval(input('输入一个年份')) #按住alt，鼠标往下拉\n",
    "if a%12==0:\n",
    "    print('猴')\n",
    "if a%12==1:\n",
    "    print('鸡')\n",
    "if a%12==2:\n",
    "    print('狗')\n",
    "if a%12==3:\n",
    "    print('猪')\n",
    "if a%12==4:\n",
    "    print('鼠')\n",
    "if a%12==5:\n",
    "    print('牛')\n",
    "if a%12==6:\n",
    "    print('虎')\n",
    "if a%12==7:\n",
    "    print('兔')\n",
    "if a%12==8:\n",
    "    print('龙')\n",
    "if a%12==9:\n",
    "    print('蛇')\n",
    "if a%12==10:\n",
    "    print('马')\n",
    "if a%12==11:\n",
    "    print('羊')"
   ]
  },
  {
   "cell_type": "code",
   "execution_count": null,
   "metadata": {},
   "outputs": [],
   "source": []
  },
  {
   "cell_type": "code",
   "execution_count": 11,
   "metadata": {},
   "outputs": [
    {
     "name": "stdout",
     "output_type": "stream",
     "text": [
      "输入体重52\n",
      "输入身高1.69\n",
      "超轻\n"
     ]
    }
   ],
   "source": [
    "a=eval(input('输入体重'))\n",
    "b=eval(input('输入身高'))\n",
    "BMI=a/b**2\n",
    "if BMI<18.5:\n",
    "    print('超轻')\n",
    "elif 18.5<=BMI<25:\n",
    "     print('标准')\n",
    "elif 25<=BMI<30:\n",
    "    print('超重')\n",
    "else:\n",
    "    print('痴肥')"
   ]
  },
  {
   "cell_type": "markdown",
   "metadata": {},
   "source": [
    "## 逻辑运算符\n",
    "![](../Photo/38.png)"
   ]
  },
  {
   "cell_type": "markdown",
   "metadata": {},
   "source": [
    "![](../Photo/39.png)\n",
    "![](../Photo/40.png)"
   ]
  },
  {
   "cell_type": "markdown",
   "metadata": {},
   "source": [
    "## EP：\n",
    "- 判定闰年：一个年份如果能被4整除但不能被100整除，或者能被400整除，那么这个年份就是闰年\n",
    "- 提示用户输入一个年份，并返回是否是闰年\n",
    "- 提示用户输入一个数字，判断其是否为水仙花数"
   ]
  },
  {
   "cell_type": "code",
   "execution_count": 25,
   "metadata": {},
   "outputs": [
    {
     "name": "stdout",
     "output_type": "stream",
     "text": [
      "输入一个年份：2000\n",
      "是闰年\n"
     ]
    }
   ],
   "source": [
    "a=eval(input('输入一个年份：'))\n",
    "if (a%4==0)and(a%100!=0):\n",
    "    print('是闰年')\n",
    "elif (a%400==0):\n",
    "    print('是闰年')\n",
    "else:\n",
    "    print('是平年')"
   ]
  },
  {
   "cell_type": "code",
   "execution_count": 28,
   "metadata": {},
   "outputs": [
    {
     "name": "stdout",
     "output_type": "stream",
     "text": [
      "输入一个数字：153\n",
      "水仙花\n"
     ]
    }
   ],
   "source": [
    "number=eval(input('输入一个数字：'))\n",
    "one=number//100\n",
    "two=(number-one*100)//10\n",
    "three=number%10\n",
    "if one**3+two**3+three**3==number:\n",
    "    print('水仙花')\n",
    "else:\n",
    "    print('不是')"
   ]
  },
  {
   "cell_type": "code",
   "execution_count": 39,
   "metadata": {},
   "outputs": [
    {
     "name": "stdout",
     "output_type": "stream",
     "text": [
      "153\n",
      "370\n",
      "371\n",
      "407\n"
     ]
    }
   ],
   "source": [
    "for i in range(100,1000):\n",
    "    one=i//100\n",
    "    two=(i-one*100)//10\n",
    "    three=i%10\n",
    "    if one**3+two**3+three**3==i:\n",
    "        print(i)"
   ]
  },
  {
   "cell_type": "markdown",
   "metadata": {},
   "source": [
    "## 实例研究：彩票\n",
    "![](../Photo/41.png)"
   ]
  },
  {
   "cell_type": "markdown",
   "metadata": {},
   "source": [
    "# Homework\n",
    "- 1\n",
    "![](../Photo/42.png)"
   ]
  },
  {
   "cell_type": "code",
   "execution_count": 15,
   "metadata": {},
   "outputs": [
    {
     "name": "stdout",
     "output_type": "stream",
     "text": [
      "输入a,b,c值1.0,3,1\n",
      "The roots are -0.3819660112501051 and -2.618033988749895\n"
     ]
    }
   ],
   "source": [
    "a,b,c=eval(input('输入a,b,c值'))\n",
    "d=b**2-4*a*c\n",
    "r1=(-b+d**(1/2))/2*a\n",
    "r2=(-b-d**(1/2))/2*a\n",
    "if d>0 :\n",
    "    print('The roots are',r1, 'and' , r2)\n",
    "elif d==0 :\n",
    "    print('The roots are',r1)\n",
    "else:\n",
    "    print('The equation has no real roots')"
   ]
  },
  {
   "cell_type": "markdown",
   "metadata": {},
   "source": [
    "- 2\n",
    "![](../Photo/43.png)"
   ]
  },
  {
   "cell_type": "code",
   "execution_count": 22,
   "metadata": {},
   "outputs": [
    {
     "name": "stdout",
     "output_type": "stream",
     "text": [
      "输入这两个整数的和56\n",
      "结果为假\n"
     ]
    }
   ],
   "source": [
    "import random\n",
    "a=random.randint(0,100)\n",
    "b=random.randint(0,100)\n",
    "c=eval(input('输入这两个整数的和'))\n",
    "if c==a+b :\n",
    "    print('结果为真')\n",
    "else:\n",
    "    print('结果为假')"
   ]
  },
  {
   "cell_type": "markdown",
   "metadata": {},
   "source": [
    "- 3\n",
    "![](../Photo/44.png)"
   ]
  },
  {
   "cell_type": "code",
   "execution_count": 51,
   "metadata": {},
   "outputs": [
    {
     "name": "stdout",
     "output_type": "stream",
     "text": [
      "输入今天的数字1\n",
      "输入今天之后到未来某天的天数3\n",
      "今天是周 1 未来是周 4\n"
     ]
    }
   ],
   "source": [
    "a=eval(input('输入今天的数字'))\n",
    "b=eval(input('输入今天之后到未来某天的天数'))\n",
    "d=(a+b)%7\n",
    "if d==0:\n",
    "    print('今天是周',a,'未来是周',d)\n",
    "if d==1:\n",
    "    print('今天是周',a,'未来是周',d)\n",
    "if d==2:\n",
    "    print('今天是周',a,'未来是周',d)  \n",
    "if d==3:\n",
    "    print('今天是周',a,'未来是周',d)    \n",
    "if d==4:\n",
    "    print('今天是周',a,'未来是周',d)    \n",
    "if d==5:\n",
    "    print('今天是周',a,'未来是周',d)    \n",
    "if d==6:\n",
    "    print('今天是周',a,'未来是周',d)"
   ]
  },
  {
   "cell_type": "code",
   "execution_count": null,
   "metadata": {},
   "outputs": [],
   "source": []
  },
  {
   "cell_type": "markdown",
   "metadata": {},
   "source": [
    "- 4\n",
    "![](../Photo/45.png)"
   ]
  },
  {
   "cell_type": "code",
   "execution_count": 4,
   "metadata": {},
   "outputs": [
    {
     "name": "stdout",
     "output_type": "stream",
     "text": [
      "输入第一个数字6\n",
      "输入第二个数字5\n",
      "输入第三个数字9\n",
      "5 6 9\n"
     ]
    }
   ],
   "source": [
    "a=eval(input('输入第一个数字'))\n",
    "b=eval(input('输入第二个数字'))\n",
    "c=eval(input('输入第三个数字'))\n",
    "if a<b<c:\n",
    "    print(a,b,c)\n",
    "if a<c<b:\n",
    "    print(a,c,b)\n",
    "if b<c<a:\n",
    "    print(b,c,a)\n",
    "if b<a<c:\n",
    "    print(b,a,c)\n",
    "if c<a<b:\n",
    "    print(c,a,b)\n",
    "if c<b<a:\n",
    "    print(c,b,a)"
   ]
  },
  {
   "cell_type": "markdown",
   "metadata": {},
   "source": [
    "- 5\n",
    "![](../Photo/46.png)"
   ]
  },
  {
   "cell_type": "code",
   "execution_count": 5,
   "metadata": {},
   "outputs": [
    {
     "name": "stdout",
     "output_type": "stream",
     "text": [
      "输入包装一的重量和价钱50,24.59\n",
      "输入包装二的重量和价钱25,11.99\n",
      "Package 2 has the better price\n"
     ]
    }
   ],
   "source": [
    "a,b=eval(input('输入包装一的重量和价钱'))\n",
    "c,d=eval(input('输入包装二的重量和价钱'))\n",
    "if b<d:\n",
    "    print('Package 1 has the better price')\n",
    "if b>d:\n",
    "    print('Package 2 has the better price')"
   ]
  },
  {
   "cell_type": "markdown",
   "metadata": {},
   "source": [
    "- 6\n",
    "![](../Photo/47.png)"
   ]
  },
  {
   "cell_type": "code",
   "execution_count": 14,
   "metadata": {},
   "outputs": [
    {
     "name": "stdout",
     "output_type": "stream",
     "text": [
      "用户输入月和年3,2065\n",
      "2065 年 3 月份有 31天\n"
     ]
    }
   ],
   "source": [
    "a,b=eval(input('用户输入月和年'))\n",
    "if ((b%4==0)and(b%100!=0)) or (b%400==0):\n",
    "    if a==2:\n",
    "        print(b,'年','二月份有29天')\n",
    "else:\n",
    "    if a==1:\n",
    "        print(b,'年',a,'月份有','31天')\n",
    "    if a==2:\n",
    "            print(b,'年',a,'月份有','28天')        \n",
    "    if a==3:\n",
    "            print(b,'年',a,'月份有','31天')        \n",
    "    if a==4:\n",
    "            print(b,'年',a,'月份有','30天')        \n",
    "    if a==5:\n",
    "            print(b,'年',a,'月份有','31天')        \n",
    "    if a==6:\n",
    "            print(b,'年',a,'月份有','30天')        \n",
    "    if a==7:\n",
    "            print(b,'年',a,'月份有','31天')        \n",
    "    if a==8:\n",
    "            print(b,'年',a,'月份有','31天')        \n",
    "    if a==9:\n",
    "            print(b,'年',a,'月份有','30天')\n",
    "    if a==10:\n",
    "            print(b,'年',a,'月份有','31天')\n",
    "    if a==11:\n",
    "            print(b,'年',a,'月份有','30天')\n",
    "    if a==12:\n",
    "            print(b,'年',a,'月份有','31天')"
   ]
  },
  {
   "cell_type": "markdown",
   "metadata": {},
   "source": [
    "- 7\n",
    "![](../Photo/48.png)"
   ]
  },
  {
   "cell_type": "code",
   "execution_count": 8,
   "metadata": {},
   "outputs": [
    {
     "name": "stdout",
     "output_type": "stream",
     "text": [
      "猜猜是正面0还是反面1：0\n",
      "正确\n"
     ]
    }
   ],
   "source": [
    "import random\n",
    "a=random.randint(0,1)\n",
    "b=eval(input('猜猜是正面0还是反面1：'))\n",
    "if a==b:\n",
    "    print('正确')\n",
    "else:\n",
    "    print('错误')"
   ]
  },
  {
   "cell_type": "markdown",
   "metadata": {},
   "source": [
    "- 8\n",
    "![](../Photo/49.png)"
   ]
  },
  {
   "cell_type": "code",
   "execution_count": 9,
   "metadata": {},
   "outputs": [
    {
     "name": "stdout",
     "output_type": "stream",
     "text": [
      "输入0/1/2：1\n",
      "电脑赢\n"
     ]
    }
   ],
   "source": [
    "import random\n",
    "a=random.randint(0,2)\n",
    "b=eval(input('输入0/1/2：'))\n",
    "if a==b:\n",
    "    print('平局')\n",
    "if (a==0 and b==2) or (a==1 and b==0) or (a==2 and b==1):\n",
    "        print('电脑赢')\n",
    "else:\n",
    "    print('你赢了')"
   ]
  },
  {
   "cell_type": "markdown",
   "metadata": {},
   "source": [
    "- 9\n",
    "![](../Photo/50.png)"
   ]
  },
  {
   "cell_type": "code",
   "execution_count": null,
   "metadata": {},
   "outputs": [],
   "source": [
    "a=eval(input('输入一个年份'))\n",
    "b=eval(input('输入一个月份'))\n",
    "c=eval(input('输入这个月某天'))"
   ]
  },
  {
   "cell_type": "markdown",
   "metadata": {},
   "source": [
    "- 10\n",
    "![](../Photo/51.png)"
   ]
  },
  {
   "cell_type": "code",
   "execution_count": 11,
   "metadata": {},
   "outputs": [
    {
     "name": "stdout",
     "output_type": "stream",
     "text": [
      "The card you picked is the 3 of 梅花\n"
     ]
    }
   ],
   "source": [
    "import random\n",
    "a=random.randint(1,13)\n",
    "b=random.randint(14,17)\n",
    "if a==1:\n",
    "    a=\"Ace\"\n",
    "if a==11:\n",
    "    a=\"Jack\"\n",
    "if a==12:\n",
    "    a=\"Queen\"\n",
    "if a==13:\n",
    "    a=\"King\"\n",
    "elif b==14:\n",
    "    b=\"方块\"\n",
    "elif b==15:\n",
    "    b=\"黑桃\"\n",
    "elif b==16:\n",
    "    b=\"梅花\"\n",
    "elif b==17:\n",
    "    b=\"红桃\"\n",
    "print('The card you picked is the', a ,'of', b)"
   ]
  },
  {
   "cell_type": "markdown",
   "metadata": {},
   "source": [
    "- 11\n",
    "![](../Photo/52.png)"
   ]
  },
  {
   "cell_type": "code",
   "execution_count": 17,
   "metadata": {},
   "outputs": [
    {
     "name": "stdout",
     "output_type": "stream",
     "text": [
      "输入一个三位数121\n",
      "121 是回文数\n"
     ]
    }
   ],
   "source": [
    "a=eval(input('输入一个三位数'))\n",
    "b=a//100\n",
    "c=a%10\n",
    "if b==c:\n",
    "    print(a,'是回文数')\n",
    "else:\n",
    "    print(a,'不是回文数')"
   ]
  },
  {
   "cell_type": "markdown",
   "metadata": {},
   "source": [
    "- 12\n",
    "![](../Photo/53.png)"
   ]
  },
  {
   "cell_type": "code",
   "execution_count": 19,
   "metadata": {},
   "outputs": [
    {
     "name": "stdout",
     "output_type": "stream",
     "text": [
      "输入边a,b,c:3,4,5\n",
      "周长为: 12\n"
     ]
    }
   ],
   "source": [
    "a,b,c=eval(input('输入边a,b,c:'))\n",
    "round=a+b+c\n",
    "if (a+b>c) and (a-b<c) and (a+c>b) and (a-c<b) and (b+c>a) and (b-c<a):\n",
    "    print('周长为:',round)"
   ]
  },
  {
   "cell_type": "code",
   "execution_count": null,
   "metadata": {},
   "outputs": [],
   "source": []
  }
 ],
 "metadata": {
  "kernelspec": {
   "display_name": "Python 3",
   "language": "python",
   "name": "python3"
  }
 },
 "nbformat": 4,
 "nbformat_minor": 2
}
