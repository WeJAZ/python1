{
 "cells": [
  {
   "cell_type": "markdown",
   "metadata": {},
   "source": [
    "# 更多字符串和特殊方法\n",
    "- 前面我们已经学了类，在Python中还有一些特殊的方法起着非常重要的作用，这里会介绍一些特殊的方法和运算符的重载，以及使用特殊方法设计类"
   ]
  },
  {
   "cell_type": "markdown",
   "metadata": {},
   "source": [
    "## str 类\n",
    "- 一个str对象是不可变的，也就是说，一旦创建了这个字符串，那么它的内容在认为不改变的情况下是不会变的\n",
    "- s1 = str()\n",
    "- s2 = str('welcome to Python')"
   ]
  },
  {
   "cell_type": "code",
   "execution_count": 2,
   "metadata": {},
   "outputs": [
    {
     "name": "stdout",
     "output_type": "stream",
     "text": [
      "wej\n"
     ]
    },
    {
     "data": {
      "text/plain": [
       "str"
      ]
     },
     "execution_count": 2,
     "metadata": {},
     "output_type": "execute_result"
    }
   ],
   "source": [
    "a='wej'\n",
    "print(a)\n",
    "type(a)"
   ]
  },
  {
   "cell_type": "code",
   "execution_count": null,
   "metadata": {},
   "outputs": [],
   "source": []
  },
  {
   "cell_type": "markdown",
   "metadata": {},
   "source": [
    "## 创建两个对象，分别观察两者id\n",
    "- id为Python内存地址"
   ]
  },
  {
   "cell_type": "code",
   "execution_count": 4,
   "metadata": {},
   "outputs": [
    {
     "name": "stdout",
     "output_type": "stream",
     "text": [
      "140737296375712 140737296375712\n"
     ]
    }
   ],
   "source": [
    "a =100\n",
    "b=100\n",
    "print(id(a),id(b))"
   ]
  },
  {
   "cell_type": "markdown",
   "metadata": {},
   "source": [
    "## 处理字符串的函数\n",
    "- len\n",
    "- max\n",
    "- min\n",
    "- 字符串一切是按照ASCII码值进行比较"
   ]
  },
  {
   "cell_type": "code",
   "execution_count": null,
   "metadata": {},
   "outputs": [],
   "source": [
    "a =len('aa')\n",
    "b=len('bbb')\n",
    "\n",
    "a==b"
   ]
  },
  {
   "cell_type": "code",
   "execution_count": 5,
   "metadata": {},
   "outputs": [
    {
     "data": {
      "text/plain": [
       "'w'"
      ]
     },
     "execution_count": 5,
     "metadata": {},
     "output_type": "execute_result"
    }
   ],
   "source": [
    "c='wej'\n",
    "max(c)\n"
   ]
  },
  {
   "cell_type": "markdown",
   "metadata": {},
   "source": [
    "## 下角标运算符 []\n",
    "- 一个字符串是一个字符序列，可以通过索引进行访问\n",
    "- 观察字符串是否是一个可迭代序列  \\__iter__"
   ]
  },
  {
   "cell_type": "code",
   "execution_count": 6,
   "metadata": {},
   "outputs": [
    {
     "name": "stdout",
     "output_type": "stream",
     "text": [
      "wej\n"
     ]
    },
    {
     "data": {
      "text/plain": [
       "'j'"
      ]
     },
     "execution_count": 6,
     "metadata": {},
     "output_type": "execute_result"
    }
   ],
   "source": [
    "print (c)\n",
    "c[2]#索引从0开始"
   ]
  },
  {
   "cell_type": "code",
   "execution_count": 7,
   "metadata": {},
   "outputs": [
    {
     "data": {
      "text/plain": [
       "'j'"
      ]
     },
     "execution_count": 7,
     "metadata": {},
     "output_type": "execute_result"
    }
   ],
   "source": [
    "#负索引，倒着取\n",
    "c[-1]"
   ]
  },
  {
   "cell_type": "code",
   "execution_count": 8,
   "metadata": {},
   "outputs": [
    {
     "name": "stdout",
     "output_type": "stream",
     "text": [
      "w\n",
      "e\n",
      "j\n"
     ]
    }
   ],
   "source": [
    "for i in 'wej':\n",
    "    print(i)\n"
   ]
  },
  {
   "cell_type": "code",
   "execution_count": 5,
   "metadata": {},
   "outputs": [
    {
     "name": "stdout",
     "output_type": "stream",
     "text": [
      "w\n",
      "e\n",
      "j\n"
     ]
    }
   ],
   "source": [
    "c='wej'\n",
    "i=0\n",
    "while i<len(c):\n",
    "    print(c[i])\n",
    "    i+=1"
   ]
  },
  {
   "cell_type": "markdown",
   "metadata": {},
   "source": [
    "## 切片 [start: end]\n",
    "- start 默认值为0\n",
    "- end 默认值为-1"
   ]
  },
  {
   "cell_type": "code",
   "execution_count": 9,
   "metadata": {},
   "outputs": [
    {
     "data": {
      "text/plain": [
       "'我是王'"
      ]
     },
     "execution_count": 9,
     "metadata": {},
     "output_type": "execute_result"
    }
   ],
   "source": [
    "a='我是王者'\n",
    "a[0:3]#前闭后开"
   ]
  },
  {
   "cell_type": "code",
   "execution_count": 10,
   "metadata": {},
   "outputs": [
    {
     "data": {
      "text/plain": [
       "'王是我'"
      ]
     },
     "execution_count": 10,
     "metadata": {},
     "output_type": "execute_result"
    }
   ],
   "source": [
    "#和for loop一样，如果步长为正，那么start<end\n",
    "#如果步长为负，那么start>end\n",
    "#如果想要整体反转（左右），[::-1]\n",
    "a[0:3][::-1]                                                 "
   ]
  },
  {
   "cell_type": "code",
   "execution_count": null,
   "metadata": {},
   "outputs": [],
   "source": []
  },
  {
   "cell_type": "code",
   "execution_count": 18,
   "metadata": {},
   "outputs": [],
   "source": [
    "def Search(index):\n",
    "    path='C:/Users/admin/Desktop/python/mail.txt'\n",
    "    with open(file=path,mode='r')as f:\n",
    "        for i in range (1000):\n",
    "            line = f.readline( )\n",
    "            new_line=line[0:index+1]\n",
    "            if new_line[-1]=='0':\n",
    "                print(new_line[:-1])\n",
    "        \n",
    "        "
   ]
  },
  {
   "cell_type": "code",
   "execution_count": 19,
   "metadata": {},
   "outputs": [
    {
     "name": "stdout",
     "output_type": "stream",
     "text": [
      "77303\n",
      "27969\n",
      "15479\n",
      "35275\n",
      "89519\n",
      "29455\n",
      "37064\n",
      "96478\n",
      "88632\n",
      "28530\n",
      "42155\n",
      "57398\n",
      "53408\n",
      "55780\n",
      "zhao9\n",
      "31234\n",
      "75349\n",
      "69545\n",
      "43249\n",
      "46078\n",
      "45907\n",
      "17092\n",
      "98844\n",
      "53222\n",
      "28149\n",
      "25128\n",
      "25036\n",
      "33504\n",
      "tiger\n",
      "31377\n",
      "31409\n",
      "43302\n",
      "85583\n",
      "85279\n",
      "32480\n",
      "26077\n",
      "50726\n",
      "77472\n",
      "77466\n",
      "10489\n",
      "27145\n",
      "46331\n",
      "41935\n",
      "40283\n",
      "50591\n",
      "43867\n",
      "69086\n",
      "63180\n",
      "66476\n",
      "lcxl1\n",
      "37812\n",
      "12412\n",
      "26214\n",
      "17189\n",
      "10089\n",
      "27331\n",
      "36604\n",
      "10778\n",
      "46100\n",
      "52626\n",
      "29120\n",
      "46006\n",
      "39484\n",
      "45508\n",
      "34619\n",
      "25889\n",
      "94455\n",
      "33297\n",
      "42290\n",
      "34837\n",
      "56821\n",
      "39344\n",
      "62634\n",
      "81113\n",
      "64095\n",
      "59720\n",
      "95239\n",
      "61610\n",
      "10090\n",
      "93706\n",
      "27639\n",
      "lzl13\n",
      "95507\n",
      "34516\n",
      "33780\n",
      "62431\n",
      "56601\n"
     ]
    }
   ],
   "source": [
    "Search(5)"
   ]
  },
  {
   "cell_type": "markdown",
   "metadata": {},
   "source": [
    "## 链接运算符 + 和复制运算符 *\n",
    "- \\+ 链接多个字符串，同时''.join()也是\n",
    "- \\* 复制多个字符串"
   ]
  },
  {
   "cell_type": "code",
   "execution_count": 20,
   "metadata": {},
   "outputs": [
    {
     "data": {
      "text/plain": [
       "'aaaaaaaaaa'"
      ]
     },
     "execution_count": 20,
     "metadata": {},
     "output_type": "execute_result"
    }
   ],
   "source": [
    "a='a'\n",
    "b='b'\n",
    "a*10"
   ]
  },
  {
   "cell_type": "code",
   "execution_count": null,
   "metadata": {},
   "outputs": [],
   "source": [
    " "
   ]
  },
  {
   "cell_type": "markdown",
   "metadata": {},
   "source": [
    "## in 和 not in 运算符\n",
    "- in :判断某个字符是否在字符串内 \n",
    "- not in ：判断某个字符是否不在字符串内\n",
    "- 返回的是布尔值"
   ]
  },
  {
   "cell_type": "code",
   "execution_count": 21,
   "metadata": {},
   "outputs": [
    {
     "data": {
      "text/plain": [
       "False"
      ]
     },
     "execution_count": 21,
     "metadata": {},
     "output_type": "execute_result"
    }
   ],
   "source": [
    "'w' not in 'wej'"
   ]
  },
  {
   "cell_type": "markdown",
   "metadata": {},
   "source": [
    "## 比较字符串\n",
    "-  ==, !=, >=, <=, >, <\n",
    "- 依照ASCII码值进行比较"
   ]
  },
  {
   "cell_type": "markdown",
   "metadata": {},
   "source": [
    "## 测试字符串\n",
    "![](../Photo/99.png)\n",
    "- 注意：\n",
    "> - isalnum() 中是不能包含空格，否则会返回False"
   ]
  },
  {
   "cell_type": "code",
   "execution_count": 22,
   "metadata": {},
   "outputs": [
    {
     "data": {
      "text/plain": [
       "False"
      ]
     },
     "execution_count": 22,
     "metadata": {},
     "output_type": "execute_result"
    }
   ],
   "source": [
    "a='!&*@'\n",
    "a.isalnum()"
   ]
  },
  {
   "cell_type": "code",
   "execution_count": 26,
   "metadata": {},
   "outputs": [
    {
     "name": "stdout",
     "output_type": "stream",
     "text": [
      ">>Ssun123\n",
      "密码必须大于8位 #`O′ \n"
     ]
    }
   ],
   "source": [
    "password=input('>>')\n",
    "N1=0#大写\n",
    "N2=0#小写\n",
    "N3=0#数字\n",
    "if len(password)<=8:\n",
    "    print('密码必须大于8位 #`O′ ')\n",
    "for i in password:\n",
    "    if i.isupper( ):\n",
    "        N1 +=1\n",
    "    if i.islower():\n",
    "        N2+=1\n",
    "    if i.isdigit( ):\n",
    "        N3+=1\n",
    "if N1==0:\n",
    "    print('密码必须有大写')\n",
    "if N2==0:\n",
    "    print('密码必须有小写')\n",
    "if N3==0:\n",
    "    print('密码必须有数字')"
   ]
  },
  {
   "cell_type": "markdown",
   "metadata": {},
   "source": [
    "## 搜索子串\n",
    "![](../Photo/100.png)"
   ]
  },
  {
   "cell_type": "code",
   "execution_count": 34,
   "metadata": {},
   "outputs": [
    {
     "data": {
      "text/plain": [
       "0"
      ]
     },
     "execution_count": 34,
     "metadata": {},
     "output_type": "execute_result"
    }
   ],
   "source": [
    "b='佳佳最美，而且快落'\n",
    "b.find('佳佳')"
   ]
  },
  {
   "cell_type": "code",
   "execution_count": 35,
   "metadata": {},
   "outputs": [
    {
     "data": {
      "text/plain": [
       "5"
      ]
     },
     "execution_count": 35,
     "metadata": {},
     "output_type": "execute_result"
    }
   ],
   "source": [
    "b.rfind('而')"
   ]
  },
  {
   "cell_type": "code",
   "execution_count": null,
   "metadata": {},
   "outputs": [],
   "source": []
  },
  {
   "cell_type": "code",
   "execution_count": null,
   "metadata": {},
   "outputs": [],
   "source": [
    "#找我QQ号\n",
    "def Search(index):\n",
    "    path='C:/Users/admin/Desktop/python/mail.txt'\n",
    "    with open(file=path,mode='r')as f:\n",
    "        for i in range (1000):\n",
    "            line = f.readline( )\n",
    "            if line.find(name)!=-1:\n",
    "                "
   ]
  },
  {
   "cell_type": "markdown",
   "metadata": {},
   "source": [
    "## 转换字符串\n",
    "![](../Photo/101.png)"
   ]
  },
  {
   "cell_type": "code",
   "execution_count": 36,
   "metadata": {},
   "outputs": [
    {
     "data": {
      "text/plain": [
       "'Jia We Sun'"
      ]
     },
     "execution_count": 36,
     "metadata": {},
     "output_type": "execute_result"
    }
   ],
   "source": [
    "a='jia we sun'\n",
    "a.title( )"
   ]
  },
  {
   "cell_type": "code",
   "execution_count": 37,
   "metadata": {},
   "outputs": [
    {
     "data": {
      "text/plain": [
       "'j we sun'"
      ]
     },
     "execution_count": 37,
     "metadata": {},
     "output_type": "execute_result"
    }
   ],
   "source": [
    "a.replace('jia','j')"
   ]
  },
  {
   "cell_type": "markdown",
   "metadata": {},
   "source": [
    "## 删除字符串\n",
    "![](../Photo/146.png)"
   ]
  },
  {
   "cell_type": "code",
   "execution_count": 38,
   "metadata": {},
   "outputs": [
    {
     "name": "stdout",
     "output_type": "stream",
     "text": [
      " sun wen jia  \n"
     ]
    },
    {
     "data": {
      "text/plain": [
       "'sun wen jia  '"
      ]
     },
     "execution_count": 38,
     "metadata": {},
     "output_type": "execute_result"
    }
   ],
   "source": [
    "a=' sun wen jia  '\n",
    "print(a)\n",
    "a.lstrip()"
   ]
  },
  {
   "cell_type": "code",
   "execution_count": 39,
   "metadata": {},
   "outputs": [
    {
     "data": {
      "text/plain": [
       "' sun wen jia'"
      ]
     },
     "execution_count": 39,
     "metadata": {},
     "output_type": "execute_result"
    }
   ],
   "source": [
    "a.rstrip()"
   ]
  },
  {
   "cell_type": "code",
   "execution_count": 40,
   "metadata": {},
   "outputs": [
    {
     "data": {
      "text/plain": [
       "'sun wen jia'"
      ]
     },
     "execution_count": 40,
     "metadata": {},
     "output_type": "execute_result"
    }
   ],
   "source": [
    "a.strip( )"
   ]
  },
  {
   "cell_type": "markdown",
   "metadata": {},
   "source": [
    "## 格式化字符串\n",
    "![](../Photo/103.png)"
   ]
  },
  {
   "cell_type": "code",
   "execution_count": 42,
   "metadata": {},
   "outputs": [
    {
     "data": {
      "text/plain": [
       "'  !'"
      ]
     },
     "execution_count": 42,
     "metadata": {},
     "output_type": "execute_result"
    }
   ],
   "source": [
    "'!'.rjust(3)"
   ]
  },
  {
   "cell_type": "code",
   "execution_count": null,
   "metadata": {},
   "outputs": [],
   "source": [
    "for i in range(:\n",
    "    a='******'.ljust(1)\n",
    "    b='**'.center(3)\n",
    "print(a,b)"
   ]
  },
  {
   "cell_type": "markdown",
   "metadata": {},
   "source": [
    "## EP:\n",
    "- 1\n",
    "![](../Photo/104.png)\n",
    "- 2 \n",
    "    随机参数100个数字，将www.baidu.com/?page=进行拼接"
   ]
  },
  {
   "cell_type": "markdown",
   "metadata": {},
   "source": [
    "## Python高级使用方法 -- 字符串\n",
    "- 我们经常使用的方法实际上就是调用Python的运算重载\n",
    "![](../Photo/105.png)"
   ]
  },
  {
   "cell_type": "code",
   "execution_count": 10,
   "metadata": {},
   "outputs": [
    {
     "data": {
      "text/plain": [
       "'ab'"
      ]
     },
     "execution_count": 10,
     "metadata": {},
     "output_type": "execute_result"
    }
   ],
   "source": [
    "a='a'\n",
    "b='b'\n",
    "a+b"
   ]
  },
  {
   "cell_type": "code",
   "execution_count": 11,
   "metadata": {},
   "outputs": [
    {
     "data": {
      "text/plain": [
       "'ab'"
      ]
     },
     "execution_count": 11,
     "metadata": {},
     "output_type": "execute_result"
    }
   ],
   "source": [
    "a.__add__(b)"
   ]
  },
  {
   "cell_type": "code",
   "execution_count": 12,
   "metadata": {},
   "outputs": [
    {
     "name": "stdout",
     "output_type": "stream",
     "text": [
      "a\n",
      "c\n",
      "n\n",
      "d\n"
     ]
    }
   ],
   "source": [
    "a='acnd'\n",
    "for i in a:\n",
    "    print(i)"
   ]
  },
  {
   "cell_type": "code",
   "execution_count": null,
   "metadata": {},
   "outputs": [],
   "source": []
  },
  {
   "cell_type": "markdown",
   "metadata": {},
   "source": [
    "# Homework\n",
    "- 1\n",
    "![](../Photo/106.png)"
   ]
  },
  {
   "cell_type": "code",
   "execution_count": 2,
   "metadata": {},
   "outputs": [
    {
     "name": "stdout",
     "output_type": "stream",
     "text": [
      "ddd-dd-dddd格式输入社会安全号码123-56-7894\n",
      "Invalid SSN\n"
     ]
    }
   ],
   "source": [
    "a= input ('ddd-dd-dddd格式输入社会安全号码')\n",
    "if a.isdigit( ): \n",
    "    print('Valid SSN')\n",
    "else:\n",
    "    print('Invalid SSN')"
   ]
  },
  {
   "cell_type": "code",
   "execution_count": null,
   "metadata": {},
   "outputs": [],
   "source": []
  },
  {
   "cell_type": "markdown",
   "metadata": {},
   "source": [
    "- 2\n",
    "![](../Photo/107.png)"
   ]
  },
  {
   "cell_type": "code",
   "execution_count": 18,
   "metadata": {},
   "outputs": [
    {
     "name": "stdout",
     "output_type": "stream",
     "text": [
      "输入字符串一1234\n",
      "输入字符串二1567\n"
     ]
    }
   ],
   "source": [
    "a=input('输入字符串一')\n",
    "b=input('输入字符串二')\n",
    "if a in b:\n",
    "    print('是')"
   ]
  },
  {
   "cell_type": "markdown",
   "metadata": {},
   "source": [
    "- 3\n",
    "![](../Photo/108.png)"
   ]
  },
  {
   "cell_type": "code",
   "execution_count": 21,
   "metadata": {},
   "outputs": [
    {
     "name": "stdout",
     "output_type": "stream",
     "text": [
      ">>swj56489\n",
      "密码必须大于8位 #`O′ \n"
     ]
    }
   ],
   "source": [
    "password=input('>>')\n",
    "N1=0\n",
    "N2=0#数字\n",
    "if len(password)<=8:\n",
    "    print('密码必须大于8位 #`O′ ')\n",
    "for i in password:\n",
    "    if i.isupper( ) or i.islower():\n",
    "        N1 +=1\n",
    "    if i.isdigit( ):\n",
    "        N2+=1\n",
    "if N1==0:\n",
    "    print('密码必须有英文')\n",
    "if N2==0:\n",
    "    print('密码必须有数字')"
   ]
  },
  {
   "cell_type": "markdown",
   "metadata": {},
   "source": [
    "- 4\n",
    "![](../Photo/109.png)"
   ]
  },
  {
   "cell_type": "code",
   "execution_count": 22,
   "metadata": {},
   "outputs": [
    {
     "ename": "SyntaxError",
     "evalue": "invalid syntax (<ipython-input-22-31bf30fda3cd>, line 3)",
     "output_type": "error",
     "traceback": [
      "\u001b[1;36m  File \u001b[1;32m\"<ipython-input-22-31bf30fda3cd>\"\u001b[1;36m, line \u001b[1;32m3\u001b[0m\n\u001b[1;33m    for\u001b[0m\n\u001b[1;37m       ^\u001b[0m\n\u001b[1;31mSyntaxError\u001b[0m\u001b[1;31m:\u001b[0m invalid syntax\n"
     ]
    }
   ],
   "source": [
    "def A(zi):\n",
    "    a=zi.lower()\n",
    "    for"
   ]
  },
  {
   "cell_type": "markdown",
   "metadata": {},
   "source": [
    "- 5\n",
    "![](../Photo/110.png)"
   ]
  },
  {
   "cell_type": "code",
   "execution_count": 24,
   "metadata": {},
   "outputs": [
    {
     "name": "stdout",
     "output_type": "stream",
     "text": [
      ">>1234\n"
     ]
    }
   ],
   "source": [
    "password=input('>>')\n",
    "N1=0\n",
    "N2=0"
   ]
  },
  {
   "cell_type": "markdown",
   "metadata": {},
   "source": [
    "- 6\n",
    "![](../Photo/111.png)"
   ]
  },
  {
   "cell_type": "code",
   "execution_count": 31,
   "metadata": {},
   "outputs": [],
   "source": [
    "def A(s):\n",
    "    return s[::-1]"
   ]
  },
  {
   "cell_type": "code",
   "execution_count": 32,
   "metadata": {},
   "outputs": [
    {
     "data": {
      "text/plain": [
       "'984651'"
      ]
     },
     "execution_count": 32,
     "metadata": {},
     "output_type": "execute_result"
    }
   ],
   "source": [
    "A(s='156489')"
   ]
  },
  {
   "cell_type": "markdown",
   "metadata": {},
   "source": [
    "- 7\n",
    "![](../Photo/112.png)"
   ]
  },
  {
   "cell_type": "code",
   "execution_count": null,
   "metadata": {},
   "outputs": [],
   "source": []
  },
  {
   "cell_type": "markdown",
   "metadata": {},
   "source": [
    "- 8\n",
    "![](../Photo/113.png)"
   ]
  },
  {
   "cell_type": "code",
   "execution_count": null,
   "metadata": {},
   "outputs": [],
   "source": []
  },
  {
   "cell_type": "markdown",
   "metadata": {},
   "source": [
    "- 9\n",
    "![](../Photo/114.png)"
   ]
  },
  {
   "cell_type": "code",
   "execution_count": null,
   "metadata": {},
   "outputs": [],
   "source": []
  }
 ],
 "metadata": {
  "kernelspec": {
   "display_name": "Python 3",
   "language": "python",
   "name": "python3"
  },
  "language_info": {
   "codemirror_mode": {
    "name": "ipython",
    "version": 3
   },
   "file_extension": ".py",
   "mimetype": "text/x-python",
   "name": "python",
   "nbconvert_exporter": "python",
   "pygments_lexer": "ipython3",
   "version": "3.7.3"
  }
 },
 "nbformat": 4,
 "nbformat_minor": 2
}
