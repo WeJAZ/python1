{
 "cells": [
  {
   "cell_type": "markdown",
   "metadata": {},
   "source": [
    "# 列表List\n",
    "- 一个列表可以储存任意大小的数据集合，你可以理解为他是一个容器"
   ]
  },
  {
   "cell_type": "code",
   "execution_count": 5,
   "metadata": {},
   "outputs": [],
   "source": [
    "def b( ):\n",
    "    pass"
   ]
  },
  {
   "cell_type": "code",
   "execution_count": 7,
   "metadata": {},
   "outputs": [
    {
     "data": {
      "text/plain": [
       "[1, 2, 1, 5, 'jj', True, <function __main__.b()>]"
      ]
     },
     "execution_count": 7,
     "metadata": {},
     "output_type": "execute_result"
    }
   ],
   "source": [
    "a=[1,2,1,5,\"jj\",True,b]\n",
    "a"
   ]
  },
  {
   "cell_type": "code",
   "execution_count": null,
   "metadata": {},
   "outputs": [],
   "source": []
  },
  {
   "cell_type": "markdown",
   "metadata": {},
   "source": [
    "## 先来一个例子爽一爽\n",
    "![](../Photo/115.png)"
   ]
  },
  {
   "cell_type": "code",
   "execution_count": 10,
   "metadata": {},
   "outputs": [
    {
     "data": {
      "text/plain": [
       "[1, 2, 3]"
      ]
     },
     "execution_count": 10,
     "metadata": {},
     "output_type": "execute_result"
    }
   ],
   "source": [
    "a=[1,2]\n",
    "b=[3]\n",
    "a+b"
   ]
  },
  {
   "cell_type": "code",
   "execution_count": 11,
   "metadata": {},
   "outputs": [
    {
     "data": {
      "text/plain": [
       "[1, 2, 1, 2, 1, 2, 1, 2, 1, 2, 1, 2, 1, 2, 1, 2, 1, 2, 1, 2]"
      ]
     },
     "execution_count": 11,
     "metadata": {},
     "output_type": "execute_result"
    }
   ],
   "source": [
    "a=[1,2]\n",
    "10*a#__mul 10"
   ]
  },
  {
   "cell_type": "markdown",
   "metadata": {},
   "source": [
    "## 创建一个列表\n",
    "- a = [1,2,3,4,5]"
   ]
  },
  {
   "cell_type": "markdown",
   "metadata": {},
   "source": [
    "## 列表的一般操作\n",
    "![](../Photo/116.png)"
   ]
  },
  {
   "cell_type": "markdown",
   "metadata": {},
   "source": [
    "# 列表索引操作\n",
    "- Mylist[index]\n",
    "- 正序索引，逆序索引\n",
    "- 列表一定注意越界\n",
    "- ![](../Photo/117.png)"
   ]
  },
  {
   "cell_type": "code",
   "execution_count": 12,
   "metadata": {},
   "outputs": [
    {
     "data": {
      "text/plain": [
       "[1, 2, 3, 4, 5]"
      ]
     },
     "execution_count": 12,
     "metadata": {},
     "output_type": "execute_result"
    }
   ],
   "source": [
    "a=[1,2,3,4,5]\n",
    "a"
   ]
  },
  {
   "cell_type": "code",
   "execution_count": 13,
   "metadata": {},
   "outputs": [
    {
     "data": {
      "text/plain": [
       "[3, 2]"
      ]
     },
     "execution_count": 13,
     "metadata": {},
     "output_type": "execute_result"
    }
   ],
   "source": [
    "a[2:0:-1]"
   ]
  },
  {
   "cell_type": "code",
   "execution_count": 16,
   "metadata": {},
   "outputs": [
    {
     "data": {
      "text/plain": [
       "[1, 2, 3, 4, 5, [100, 200]]"
      ]
     },
     "execution_count": 16,
     "metadata": {},
     "output_type": "execute_result"
    }
   ],
   "source": [
    "\n",
    "a=[1,2,3,4,5,[100,200]]\n",
    "a"
   ]
  },
  {
   "cell_type": "code",
   "execution_count": 17,
   "metadata": {},
   "outputs": [
    {
     "data": {
      "text/plain": [
       "200"
      ]
     },
     "execution_count": 17,
     "metadata": {},
     "output_type": "execute_result"
    }
   ],
   "source": [
    "a[5][1]"
   ]
  },
  {
   "cell_type": "code",
   "execution_count": 33,
   "metadata": {},
   "outputs": [
    {
     "data": {
      "text/plain": [
       "[100, 2, 100, 4, 100, 6, 100, 8, 100, 10]"
      ]
     },
     "execution_count": 33,
     "metadata": {},
     "output_type": "execute_result"
    }
   ],
   "source": [
    "b=[1,2,3,4,5,6,7,8,9,10]\n",
    "for i in range(0,10,2):\n",
    "    b[i]=100\n",
    "b"
   ]
  },
  {
   "cell_type": "code",
   "execution_count": null,
   "metadata": {},
   "outputs": [],
   "source": [
    "[1,2],[4,5],[7,8],[10,11]"
   ]
  },
  {
   "cell_type": "code",
   "execution_count": 31,
   "metadata": {},
   "outputs": [
    {
     "data": {
      "text/plain": [
       "[1, 2, 3, 4, 5, 6, 7, 8, 9, 10]"
      ]
     },
     "execution_count": 31,
     "metadata": {},
     "output_type": "execute_result"
    }
   ],
   "source": [
    "b"
   ]
  },
  {
   "cell_type": "code",
   "execution_count": 44,
   "metadata": {},
   "outputs": [
    {
     "data": {
      "text/plain": [
       "4"
      ]
     },
     "execution_count": 44,
     "metadata": {},
     "output_type": "execute_result"
    }
   ],
   "source": [
    "付狗=[1,2,3,[3,4]]\n",
    "len(付狗)"
   ]
  },
  {
   "cell_type": "code",
   "execution_count": 46,
   "metadata": {},
   "outputs": [
    {
     "name": "stdout",
     "output_type": "stream",
     "text": [
      "7\n"
     ]
    }
   ],
   "source": [
    "count=0\n",
    "for i in a:\n",
    "    if type(i) ==list:\n",
    "        for j in i:\n",
    "            count+=1\n",
    "    else:\n",
    "        count +=1\n",
    "print(count)"
   ]
  },
  {
   "cell_type": "code",
   "execution_count": null,
   "metadata": {},
   "outputs": [],
   "source": [
    "a=[1,2,3]\n",
    "i=0\n",
    "while i<a:\n",
    "    type(i)"
   ]
  },
  {
   "cell_type": "code",
   "execution_count": null,
   "metadata": {},
   "outputs": [],
   "source": [
    "a.__iter__"
   ]
  },
  {
   "cell_type": "code",
   "execution_count": null,
   "metadata": {},
   "outputs": [],
   "source": []
  },
  {
   "cell_type": "code",
   "execution_count": 53,
   "metadata": {},
   "outputs": [
    {
     "name": "stdout",
     "output_type": "stream",
     "text": [
      "[1, 2, 3, 4]\n"
     ]
    }
   ],
   "source": [
    "b=[4,3,2,1]\n",
    "for i in range (len(b)-1):\n",
    "    for j in range (len(b)-1-i):\n",
    "        if b[j]>b[j+1]:\n",
    "            b[j],b[j+1]=b[j+1],b[j]\n",
    "print(b)"
   ]
  },
  {
   "cell_type": "code",
   "execution_count": 54,
   "metadata": {},
   "outputs": [
    {
     "name": "stdout",
     "output_type": "stream",
     "text": [
      "[1, 2, 3, 4]\n"
     ]
    }
   ],
   "source": [
    "length=len(b)\n",
    "for i in range (length):\n",
    "    for j in range (1,4):\n",
    "        if b[i]>b[j]:\n",
    "            b[i],b[j]=b[j],b[i]\n",
    "    break\n",
    "print(b)"
   ]
  },
  {
   "cell_type": "markdown",
   "metadata": {},
   "source": [
    "## 列表切片操作\n",
    "- Mylist[start:end]\n",
    "- 正序切片，逆序切片"
   ]
  },
  {
   "cell_type": "markdown",
   "metadata": {},
   "source": [
    "## 列表 +、*、in 、not in"
   ]
  },
  {
   "cell_type": "markdown",
   "metadata": {},
   "source": [
    "## 使用for循环遍历元素\n",
    "- for 循环可以遍历一切可迭代元素"
   ]
  },
  {
   "cell_type": "markdown",
   "metadata": {},
   "source": [
    "## EP：\n",
    "- 使用while 循环遍历列表"
   ]
  },
  {
   "cell_type": "markdown",
   "metadata": {},
   "source": [
    "## 列表的比较\n",
    "- \\>,<,>=,<=,==,!="
   ]
  },
  {
   "cell_type": "markdown",
   "metadata": {},
   "source": [
    "## 列表生成式\n",
    "[x for x in range(10)]"
   ]
  },
  {
   "cell_type": "markdown",
   "metadata": {},
   "source": [
    "## 列表的方法\n",
    "![](../Photo/118.png)"
   ]
  },
  {
   "cell_type": "code",
   "execution_count": 56,
   "metadata": {},
   "outputs": [],
   "source": [
    "a=[1,2,3]\n",
    "b=[100,200]\n",
    "a.append(b)"
   ]
  },
  {
   "cell_type": "code",
   "execution_count": 57,
   "metadata": {},
   "outputs": [
    {
     "data": {
      "text/plain": [
       "[1, 2, 3, [100, 200]]"
      ]
     },
     "execution_count": 57,
     "metadata": {},
     "output_type": "execute_result"
    }
   ],
   "source": [
    "a"
   ]
  },
  {
   "cell_type": "code",
   "execution_count": 58,
   "metadata": {},
   "outputs": [],
   "source": [
    "a=[1,2,[5,6],3]\n",
    "b=[100,200]\n",
    "a[2].append(b)"
   ]
  },
  {
   "cell_type": "code",
   "execution_count": 59,
   "metadata": {},
   "outputs": [
    {
     "data": {
      "text/plain": [
       "[1, 2, [5, 6, [100, 200]], 3]"
      ]
     },
     "execution_count": 59,
     "metadata": {},
     "output_type": "execute_result"
    }
   ],
   "source": [
    "a"
   ]
  },
  {
   "cell_type": "code",
   "execution_count": 60,
   "metadata": {},
   "outputs": [
    {
     "data": {
      "text/plain": [
       "1"
      ]
     },
     "execution_count": 60,
     "metadata": {},
     "output_type": "execute_result"
    }
   ],
   "source": [
    "a=[1,2,[1,2],3]\n",
    "a.count(1)"
   ]
  },
  {
   "cell_type": "code",
   "execution_count": 63,
   "metadata": {},
   "outputs": [],
   "source": [
    "a=[1,2,3]\n",
    "b=[100,200]\n",
    "b.extend(a)"
   ]
  },
  {
   "cell_type": "code",
   "execution_count": 64,
   "metadata": {},
   "outputs": [],
   "source": [
    "c=[1,2,3]\n",
    "d=[[100],[200],[300]]\n",
    "c.extend(d)"
   ]
  },
  {
   "cell_type": "code",
   "execution_count": 65,
   "metadata": {},
   "outputs": [
    {
     "data": {
      "text/plain": [
       "[1, 2, 3, [100], [200], [300]]"
      ]
     },
     "execution_count": 65,
     "metadata": {},
     "output_type": "execute_result"
    }
   ],
   "source": [
    "c"
   ]
  },
  {
   "cell_type": "code",
   "execution_count": 72,
   "metadata": {},
   "outputs": [
    {
     "data": {
      "text/plain": [
       "[100, 1, 2, 100, 3, 4, 100]"
      ]
     },
     "execution_count": 72,
     "metadata": {},
     "output_type": "execute_result"
    }
   ],
   "source": [
    "c=[1,2,3,4]\n",
    "c.insert(0,100)\n",
    "c.insert(3,100)\n",
    "c.insert(6,100)\n",
    "c"
   ]
  },
  {
   "cell_type": "code",
   "execution_count": 73,
   "metadata": {},
   "outputs": [
    {
     "data": {
      "text/plain": [
       "[100, 1, 2, 3, 4]"
      ]
     },
     "execution_count": 73,
     "metadata": {},
     "output_type": "execute_result"
    }
   ],
   "source": [
    "c=[1,2,3,4]\n",
    "c.insert(0,100)\n",
    "c"
   ]
  },
  {
   "cell_type": "markdown",
   "metadata": {},
   "source": [
    "## 将字符串分割成列表\n",
    "- split  按照自定义的内容拆分"
   ]
  },
  {
   "cell_type": "markdown",
   "metadata": {},
   "source": [
    "## EP:\n",
    "![](../Photo/119.png)\n",
    "![](../Photo/120.png)"
   ]
  },
  {
   "cell_type": "markdown",
   "metadata": {},
   "source": [
    "## 列表的复制\n",
    "- copy 浅复制\n",
    "- deepcopy import copy  深复制\n",
    "- http://www.pythontutor.com/visualize.html#mode=edit"
   ]
  },
  {
   "cell_type": "markdown",
   "metadata": {},
   "source": [
    "## 列表排序\n",
    "- sort\n",
    "- sorted\n",
    "- 列表的多级排序\n",
    "    - 匿名函数"
   ]
  },
  {
   "cell_type": "code",
   "execution_count": 74,
   "metadata": {},
   "outputs": [
    {
     "name": "stdout",
     "output_type": "stream",
     "text": [
      "100\n"
     ]
    }
   ],
   "source": [
    "(lambda x:print(x))(100)"
   ]
  },
  {
   "cell_type": "code",
   "execution_count": 77,
   "metadata": {},
   "outputs": [
    {
     "data": {
      "text/plain": [
       "[['ouou', 80], ['hehe', 90], ['haha', 100]]"
      ]
     },
     "execution_count": 77,
     "metadata": {},
     "output_type": "execute_result"
    }
   ],
   "source": [
    "c=[['haha',100],['hehe',90],['ouou',80]]\n",
    "c.sort(key=lambda x:x[1])\n",
    "c"
   ]
  },
  {
   "cell_type": "code",
   "execution_count": null,
   "metadata": {},
   "outputs": [],
   "source": []
  },
  {
   "cell_type": "code",
   "execution_count": 78,
   "metadata": {},
   "outputs": [
    {
     "data": {
      "text/plain": [
       "[['ouou', 80, [25, 55]], ['hehe', 90, [45, 45]], ['haha', 100, [10, 90]]]"
      ]
     },
     "execution_count": 78,
     "metadata": {},
     "output_type": "execute_result"
    }
   ],
   "source": [
    "c=[['haha',100,[10,90]],['hehe',90,[45,45]],['ouou',80,[25,55]]]\n",
    "c.sort(key=lambda x:x[1])\n",
    "c"
   ]
  },
  {
   "cell_type": "code",
   "execution_count": null,
   "metadata": {},
   "outputs": [],
   "source": []
  },
  {
   "cell_type": "code",
   "execution_count": 2,
   "metadata": {},
   "outputs": [
    {
     "data": {
      "text/plain": [
       "['a', 'b', 'c', 'd']"
      ]
     },
     "execution_count": 2,
     "metadata": {},
     "output_type": "execute_result"
    }
   ],
   "source": [
    "a='a b c d'\n",
    "a.split(' ')"
   ]
  },
  {
   "cell_type": "code",
   "execution_count": 5,
   "metadata": {},
   "outputs": [
    {
     "data": {
      "text/plain": [
       "['ab', 'cd']"
      ]
     },
     "execution_count": 5,
     "metadata": {},
     "output_type": "execute_result"
    }
   ],
   "source": [
    "a='ab!cd'    \n",
    "a.split('!')"
   ]
  },
  {
   "cell_type": "code",
   "execution_count": null,
   "metadata": {},
   "outputs": [],
   "source": [
    "import copy"
   ]
  },
  {
   "cell_type": "code",
   "execution_count": null,
   "metadata": {},
   "outputs": [],
   "source": [
    "a=[1,2,3,[100,200]]\n",
    "b=copy.deep"
   ]
  },
  {
   "cell_type": "code",
   "execution_count": null,
   "metadata": {},
   "outputs": [],
   "source": []
  },
  {
   "cell_type": "markdown",
   "metadata": {},
   "source": [
    "## EP：\n",
    "- 手动排序该列表[5,3,8,0,17]，以升序或者降序"
   ]
  },
  {
   "cell_type": "markdown",
   "metadata": {},
   "source": [
    "- 1\n",
    "![](../Photo/121.png)"
   ]
  },
  {
   "cell_type": "code",
   "execution_count": 27,
   "metadata": {},
   "outputs": [
    {
     "name": "stdout",
     "output_type": "stream",
     "text": [
      "C\n",
      "B\n",
      "A\n",
      "B\n"
     ]
    }
   ],
   "source": [
    "a=[40,55,70,58]\n",
    "best=max(a)\n",
    "for i in a:\n",
    "    if i>=best-10:\n",
    "        print('A')\n",
    "    elif i>=best-20:\n",
    "        print('B')\n",
    "    elif i>=best-30:\n",
    "        print('C')\n",
    "    elif i>=best-40:\n",
    "        print('D')\n",
    "    else:\n",
    "        print('F')"
   ]
  },
  {
   "cell_type": "markdown",
   "metadata": {},
   "source": [
    "- 2\n",
    "![](../Photo/122.png)"
   ]
  },
  {
   "cell_type": "code",
   "execution_count": 111,
   "metadata": {},
   "outputs": [
    {
     "name": "stdout",
     "output_type": "stream",
     "text": [
      "[1, 2, 3, 4]\n"
     ]
    }
   ],
   "source": [
    "b=[4,3,2,1]\n",
    "for i in range (len(b)-1):\n",
    "    for j in range (len(b)-1-i):\n",
    "        if b[j]>b[j+1]:\n",
    "            b[j],b[j+1]=b[j+1],b[j]\n",
    "print(b)"
   ]
  },
  {
   "cell_type": "markdown",
   "metadata": {},
   "source": [
    "- 3\n",
    "![](../Photo/123.png)"
   ]
  },
  {
   "cell_type": "code",
   "execution_count": 39,
   "metadata": {},
   "outputs": [
    {
     "name": "stdout",
     "output_type": "stream",
     "text": [
      "2 出现 2 次\n",
      "5 出现 2 次\n",
      "6 出现 1 次\n",
      "5 出现 2 次\n",
      "4 出现 1 次\n",
      "3 出现 1 次\n",
      "23 出现 1 次\n",
      "43 出现 1 次\n",
      "2 出现 2 次\n"
     ]
    }
   ],
   "source": [
    "a=[2,5,6,5,4,3,23,43,2]\n",
    "for i in a:\n",
    "    b=a.count(i)\n",
    "    print(i,'出现',b,'次')"
   ]
  },
  {
   "cell_type": "markdown",
   "metadata": {},
   "source": [
    "- 4\n",
    "![](../Photo/124.png)"
   ]
  },
  {
   "cell_type": "code",
   "execution_count": 94,
   "metadata": {},
   "outputs": [
    {
     "name": "stdout",
     "output_type": "stream",
     "text": [
      "4.0\n",
      "1 个小于平均值\n",
      "1 个小于平均值\n",
      "1 个小于平均值\n",
      "1 个大于平均值\n",
      "1 个大于平均值\n"
     ]
    }
   ],
   "source": [
    "a=[1,2,3,6,8]\n",
    "b=sum(a)/len(a)\n",
    "print(b)\n",
    "for i in a:\n",
    "    if i>b:\n",
    "        c=a.count(i)\n",
    "        print(c,'个大于平均值')\n",
    "    if i <b:\n",
    "        d=a.count(i)\n",
    "        print(d,'个小于平均值')"
   ]
  },
  {
   "cell_type": "markdown",
   "metadata": {},
   "source": [
    "- 5\n",
    "![](../Photo/125.png)"
   ]
  },
  {
   "cell_type": "code",
   "execution_count": 59,
   "metadata": {},
   "outputs": [
    {
     "name": "stdout",
     "output_type": "stream",
     "text": [
      "1 出现 95 次\n",
      "3 出现 93 次\n",
      "5 出现 94 次\n",
      "9 出现 97 次\n",
      "9 出现 97 次\n",
      "6 出现 97 次\n",
      "0 出现 92 次\n",
      "7 出现 85 次\n",
      "5 出现 94 次\n",
      "8 出现 97 次\n",
      "4 出现 87 次\n",
      "5 出现 94 次\n",
      "5 出现 94 次\n",
      "3 出现 93 次\n",
      "10 出现 80 次\n",
      "7 出现 85 次\n",
      "6 出现 97 次\n",
      "3 出现 93 次\n",
      "2 出现 83 次\n",
      "2 出现 83 次\n",
      "3 出现 93 次\n",
      "5 出现 94 次\n",
      "9 出现 97 次\n",
      "10 出现 80 次\n",
      "3 出现 93 次\n",
      "4 出现 87 次\n",
      "8 出现 97 次\n",
      "4 出现 87 次\n",
      "6 出现 97 次\n",
      "0 出现 92 次\n",
      "1 出现 95 次\n",
      "2 出现 83 次\n",
      "2 出现 83 次\n",
      "8 出现 97 次\n",
      "8 出现 97 次\n",
      "6 出现 97 次\n",
      "2 出现 83 次\n",
      "2 出现 83 次\n",
      "7 出现 85 次\n",
      "7 出现 85 次\n",
      "7 出现 85 次\n",
      "7 出现 85 次\n",
      "5 出现 94 次\n",
      "2 出现 83 次\n",
      "8 出现 97 次\n",
      "8 出现 97 次\n",
      "3 出现 93 次\n",
      "8 出现 97 次\n",
      "9 出现 97 次\n",
      "5 出现 94 次\n",
      "8 出现 97 次\n",
      "7 出现 85 次\n",
      "3 出现 93 次\n",
      "6 出现 97 次\n",
      "6 出现 97 次\n",
      "10 出现 80 次\n",
      "7 出现 85 次\n",
      "9 出现 97 次\n",
      "7 出现 85 次\n",
      "3 出现 93 次\n",
      "6 出现 97 次\n",
      "3 出现 93 次\n",
      "3 出现 93 次\n",
      "1 出现 95 次\n",
      "10 出现 80 次\n",
      "1 出现 95 次\n",
      "8 出现 97 次\n",
      "4 出现 87 次\n",
      "2 出现 83 次\n",
      "7 出现 85 次\n",
      "9 出现 97 次\n",
      "8 出现 97 次\n",
      "1 出现 95 次\n",
      "10 出现 80 次\n",
      "8 出现 97 次\n",
      "4 出现 87 次\n",
      "3 出现 93 次\n",
      "9 出现 97 次\n",
      "2 出现 83 次\n",
      "9 出现 97 次\n",
      "2 出现 83 次\n",
      "6 出现 97 次\n",
      "6 出现 97 次\n",
      "3 出现 93 次\n",
      "2 出现 83 次\n",
      "8 出现 97 次\n",
      "1 出现 95 次\n",
      "7 出现 85 次\n",
      "8 出现 97 次\n",
      "10 出现 80 次\n",
      "7 出现 85 次\n",
      "2 出现 83 次\n",
      "1 出现 95 次\n",
      "10 出现 80 次\n",
      "10 出现 80 次\n",
      "5 出现 94 次\n",
      "8 出现 97 次\n",
      "2 出现 83 次\n",
      "5 出现 94 次\n",
      "9 出现 97 次\n",
      "1 出现 95 次\n",
      "9 出现 97 次\n",
      "5 出现 94 次\n",
      "3 出现 93 次\n",
      "2 出现 83 次\n",
      "5 出现 94 次\n",
      "4 出现 87 次\n",
      "0 出现 92 次\n",
      "4 出现 87 次\n",
      "10 出现 80 次\n",
      "4 出现 87 次\n",
      "8 出现 97 次\n",
      "2 出现 83 次\n",
      "9 出现 97 次\n",
      "1 出现 95 次\n",
      "10 出现 80 次\n",
      "8 出现 97 次\n",
      "3 出现 93 次\n",
      "5 出现 94 次\n",
      "6 出现 97 次\n",
      "4 出现 87 次\n",
      "1 出现 95 次\n",
      "4 出现 87 次\n",
      "9 出现 97 次\n",
      "4 出现 87 次\n",
      "7 出现 85 次\n",
      "7 出现 85 次\n",
      "0 出现 92 次\n",
      "1 出现 95 次\n",
      "7 出现 85 次\n",
      "4 出现 87 次\n",
      "10 出现 80 次\n",
      "0 出现 92 次\n",
      "7 出现 85 次\n",
      "8 出现 97 次\n",
      "5 出现 94 次\n",
      "0 出现 92 次\n",
      "8 出现 97 次\n",
      "1 出现 95 次\n",
      "0 出现 92 次\n",
      "7 出现 85 次\n",
      "6 出现 97 次\n",
      "6 出现 97 次\n",
      "8 出现 97 次\n",
      "3 出现 93 次\n",
      "0 出现 92 次\n",
      "10 出现 80 次\n",
      "2 出现 83 次\n",
      "8 出现 97 次\n",
      "7 出现 85 次\n",
      "9 出现 97 次\n",
      "4 出现 87 次\n",
      "0 出现 92 次\n",
      "2 出现 83 次\n",
      "8 出现 97 次\n",
      "4 出现 87 次\n",
      "3 出现 93 次\n",
      "0 出现 92 次\n",
      "9 出现 97 次\n",
      "8 出现 97 次\n",
      "9 出现 97 次\n",
      "8 出现 97 次\n",
      "2 出现 83 次\n",
      "2 出现 83 次\n",
      "10 出现 80 次\n",
      "3 出现 93 次\n",
      "1 出现 95 次\n",
      "8 出现 97 次\n",
      "7 出现 85 次\n",
      "8 出现 97 次\n",
      "0 出现 92 次\n",
      "4 出现 87 次\n",
      "6 出现 97 次\n",
      "0 出现 92 次\n",
      "9 出现 97 次\n",
      "8 出现 97 次\n",
      "10 出现 80 次\n",
      "2 出现 83 次\n",
      "0 出现 92 次\n",
      "7 出现 85 次\n",
      "3 出现 93 次\n",
      "2 出现 83 次\n",
      "1 出现 95 次\n",
      "8 出现 97 次\n",
      "6 出现 97 次\n",
      "7 出现 85 次\n",
      "5 出现 94 次\n",
      "4 出现 87 次\n",
      "7 出现 85 次\n",
      "4 出现 87 次\n",
      "5 出现 94 次\n",
      "1 出现 95 次\n",
      "1 出现 95 次\n",
      "10 出现 80 次\n",
      "3 出现 93 次\n",
      "1 出现 95 次\n",
      "8 出现 97 次\n",
      "9 出现 97 次\n",
      "9 出现 97 次\n",
      "8 出现 97 次\n",
      "5 出现 94 次\n",
      "3 出现 93 次\n",
      "5 出现 94 次\n",
      "9 出现 97 次\n",
      "3 出现 93 次\n",
      "8 出现 97 次\n",
      "2 出现 83 次\n",
      "3 出现 93 次\n",
      "7 出现 85 次\n",
      "6 出现 97 次\n",
      "5 出现 94 次\n",
      "4 出现 87 次\n",
      "6 出现 97 次\n",
      "5 出现 94 次\n",
      "0 出现 92 次\n",
      "9 出现 97 次\n",
      "8 出现 97 次\n",
      "8 出现 97 次\n",
      "0 出现 92 次\n",
      "6 出现 97 次\n",
      "8 出现 97 次\n",
      "7 出现 85 次\n",
      "3 出现 93 次\n",
      "8 出现 97 次\n",
      "6 出现 97 次\n",
      "7 出现 85 次\n",
      "6 出现 97 次\n",
      "6 出现 97 次\n",
      "8 出现 97 次\n",
      "5 出现 94 次\n",
      "8 出现 97 次\n",
      "3 出现 93 次\n",
      "10 出现 80 次\n",
      "0 出现 92 次\n",
      "9 出现 97 次\n",
      "0 出现 92 次\n",
      "7 出现 85 次\n",
      "7 出现 85 次\n",
      "1 出现 95 次\n",
      "6 出现 97 次\n",
      "6 出现 97 次\n",
      "6 出现 97 次\n",
      "9 出现 97 次\n",
      "4 出现 87 次\n",
      "2 出现 83 次\n",
      "10 出现 80 次\n",
      "4 出现 87 次\n",
      "3 出现 93 次\n",
      "1 出现 95 次\n",
      "2 出现 83 次\n",
      "2 出现 83 次\n",
      "10 出现 80 次\n",
      "2 出现 83 次\n",
      "6 出现 97 次\n",
      "9 出现 97 次\n",
      "8 出现 97 次\n",
      "1 出现 95 次\n",
      "10 出现 80 次\n",
      "6 出现 97 次\n",
      "4 出现 87 次\n",
      "2 出现 83 次\n",
      "3 出现 93 次\n",
      "8 出现 97 次\n",
      "7 出现 85 次\n",
      "6 出现 97 次\n",
      "4 出现 87 次\n",
      "7 出现 85 次\n",
      "4 出现 87 次\n",
      "6 出现 97 次\n",
      "3 出现 93 次\n",
      "10 出现 80 次\n",
      "8 出现 97 次\n",
      "7 出现 85 次\n",
      "9 出现 97 次\n",
      "8 出现 97 次\n",
      "7 出现 85 次\n",
      "9 出现 97 次\n",
      "8 出现 97 次\n",
      "9 出现 97 次\n",
      "6 出现 97 次\n",
      "3 出现 93 次\n",
      "5 出现 94 次\n",
      "10 出现 80 次\n",
      "2 出现 83 次\n",
      "7 出现 85 次\n",
      "5 出现 94 次\n",
      "1 出现 95 次\n",
      "5 出现 94 次\n",
      "0 出现 92 次\n",
      "3 出现 93 次\n",
      "5 出现 94 次\n",
      "7 出现 85 次\n",
      "4 出现 87 次\n",
      "0 出现 92 次\n",
      "3 出现 93 次\n",
      "8 出现 97 次\n",
      "9 出现 97 次\n",
      "1 出现 95 次\n",
      "3 出现 93 次\n",
      "4 出现 87 次\n",
      "5 出现 94 次\n",
      "1 出现 95 次\n",
      "1 出现 95 次\n",
      "3 出现 93 次\n",
      "7 出现 85 次\n",
      "5 出现 94 次\n",
      "4 出现 87 次\n",
      "9 出现 97 次\n",
      "10 出现 80 次\n",
      "3 出现 93 次\n",
      "0 出现 92 次\n",
      "8 出现 97 次\n",
      "6 出现 97 次\n",
      "9 出现 97 次\n",
      "10 出现 80 次\n",
      "8 出现 97 次\n",
      "8 出现 97 次\n",
      "6 出现 97 次\n",
      "4 出现 87 次\n",
      "1 出现 95 次\n",
      "0 出现 92 次\n",
      "2 出现 83 次\n",
      "10 出现 80 次\n",
      "2 出现 83 次\n",
      "9 出现 97 次\n",
      "4 出现 87 次\n",
      "2 出现 83 次\n",
      "5 出现 94 次\n",
      "2 出现 83 次\n",
      "10 出现 80 次\n",
      "2 出现 83 次\n",
      "4 出现 87 次\n",
      "3 出现 93 次\n",
      "3 出现 93 次\n",
      "10 出现 80 次\n",
      "6 出现 97 次\n",
      "4 出现 87 次\n",
      "5 出现 94 次\n",
      "5 出现 94 次\n",
      "5 出现 94 次\n",
      "9 出现 97 次\n",
      "7 出现 85 次\n",
      "3 出现 93 次\n",
      "0 出现 92 次\n",
      "2 出现 83 次\n",
      "0 出现 92 次\n",
      "4 出现 87 次\n",
      "1 出现 95 次\n",
      "9 出现 97 次\n",
      "0 出现 92 次\n",
      "9 出现 97 次\n",
      "6 出现 97 次\n",
      "2 出现 83 次\n",
      "3 出现 93 次\n",
      "10 出现 80 次\n",
      "3 出现 93 次\n",
      "10 出现 80 次\n",
      "7 出现 85 次\n",
      "6 出现 97 次\n",
      "3 出现 93 次\n",
      "8 出现 97 次\n",
      "7 出现 85 次\n",
      "9 出现 97 次\n",
      "2 出现 83 次\n",
      "6 出现 97 次\n",
      "9 出现 97 次\n",
      "10 出现 80 次\n",
      "5 出现 94 次\n",
      "6 出现 97 次\n",
      "9 出现 97 次\n",
      "0 出现 92 次\n",
      "9 出现 97 次\n",
      "6 出现 97 次\n",
      "6 出现 97 次\n",
      "10 出现 80 次\n",
      "2 出现 83 次\n",
      "6 出现 97 次\n",
      "2 出现 83 次\n",
      "1 出现 95 次\n",
      "3 出现 93 次\n",
      "5 出现 94 次\n",
      "7 出现 85 次\n",
      "4 出现 87 次\n",
      "10 出现 80 次\n",
      "10 出现 80 次\n",
      "10 出现 80 次\n",
      "7 出现 85 次\n",
      "3 出现 93 次\n",
      "7 出现 85 次\n",
      "9 出现 97 次\n",
      "2 出现 83 次\n",
      "2 出现 83 次\n",
      "8 出现 97 次\n",
      "8 出现 97 次\n",
      "6 出现 97 次\n",
      "7 出现 85 次\n",
      "3 出现 93 次\n",
      "9 出现 97 次\n",
      "9 出现 97 次\n",
      "3 出现 93 次\n",
      "3 出现 93 次\n",
      "10 出现 80 次\n",
      "3 出现 93 次\n",
      "4 出现 87 次\n",
      "10 出现 80 次\n",
      "8 出现 97 次\n",
      "8 出现 97 次\n",
      "1 出现 95 次\n",
      "8 出现 97 次\n",
      "10 出现 80 次\n",
      "1 出现 95 次\n",
      "6 出现 97 次\n",
      "8 出现 97 次\n",
      "7 出现 85 次\n",
      "0 出现 92 次\n",
      "4 出现 87 次\n",
      "1 出现 95 次\n",
      "9 出现 97 次\n",
      "8 出现 97 次\n",
      "3 出现 93 次\n",
      "6 出现 97 次\n",
      "10 出现 80 次\n",
      "1 出现 95 次\n",
      "5 出现 94 次\n",
      "7 出现 85 次\n",
      "0 出现 92 次\n",
      "7 出现 85 次\n",
      "6 出现 97 次\n",
      "7 出现 85 次\n",
      "0 出现 92 次\n",
      "5 出现 94 次\n",
      "4 出现 87 次\n",
      "3 出现 93 次\n",
      "0 出现 92 次\n",
      "9 出现 97 次\n",
      "5 出现 94 次\n",
      "8 出现 97 次\n",
      "9 出现 97 次\n",
      "6 出现 97 次\n",
      "8 出现 97 次\n",
      "3 出现 93 次\n",
      "7 出现 85 次\n",
      "4 出现 87 次\n",
      "6 出现 97 次\n",
      "9 出现 97 次\n",
      "8 出现 97 次\n",
      "0 出现 92 次\n",
      "10 出现 80 次\n",
      "3 出现 93 次\n",
      "7 出现 85 次\n",
      "5 出现 94 次\n",
      "10 出现 80 次\n",
      "1 出现 95 次\n",
      "5 出现 94 次\n",
      "6 出现 97 次\n",
      "0 出现 92 次\n",
      "10 出现 80 次\n",
      "7 出现 85 次\n",
      "9 出现 97 次\n",
      "3 出现 93 次\n",
      "0 出现 92 次\n",
      "5 出现 94 次\n",
      "10 出现 80 次\n",
      "0 出现 92 次\n",
      "6 出现 97 次\n",
      "3 出现 93 次\n",
      "2 出现 83 次\n",
      "5 出现 94 次\n",
      "5 出现 94 次\n",
      "4 出现 87 次\n",
      "5 出现 94 次\n",
      "8 出现 97 次\n",
      "5 出现 94 次\n",
      "3 出现 93 次\n",
      "3 出现 93 次\n",
      "5 出现 94 次\n",
      "0 出现 92 次\n",
      "4 出现 87 次\n",
      "6 出现 97 次\n",
      "6 出现 97 次\n",
      "1 出现 95 次\n",
      "0 出现 92 次\n",
      "10 出现 80 次\n",
      "8 出现 97 次\n",
      "3 出现 93 次\n",
      "9 出现 97 次\n",
      "2 出现 83 次\n",
      "6 出现 97 次\n",
      "1 出现 95 次\n",
      "9 出现 97 次\n",
      "3 出现 93 次\n",
      "2 出现 83 次\n",
      "5 出现 94 次\n",
      "5 出现 94 次\n",
      "4 出现 87 次\n",
      "10 出现 80 次\n",
      "6 出现 97 次\n",
      "5 出现 94 次\n",
      "0 出现 92 次\n",
      "4 出现 87 次\n",
      "1 出现 95 次\n",
      "7 出现 85 次\n",
      "6 出现 97 次\n",
      "8 出现 97 次\n",
      "8 出现 97 次\n",
      "2 出现 83 次\n",
      "3 出现 93 次\n",
      "1 出现 95 次\n",
      "4 出现 87 次\n",
      "1 出现 95 次\n",
      "4 出现 87 次\n",
      "8 出现 97 次\n",
      "6 出现 97 次\n",
      "6 出现 97 次\n",
      "9 出现 97 次\n",
      "3 出现 93 次\n",
      "6 出现 97 次\n",
      "10 出现 80 次\n",
      "8 出现 97 次\n",
      "10 出现 80 次\n",
      "7 出现 85 次\n",
      "6 出现 97 次\n",
      "4 出现 87 次\n",
      "9 出现 97 次\n",
      "1 出现 95 次\n",
      "0 出现 92 次\n",
      "0 出现 92 次\n",
      "10 出现 80 次\n",
      "9 出现 97 次\n",
      "6 出现 97 次\n",
      "3 出现 93 次\n",
      "7 出现 85 次\n",
      "3 出现 93 次\n",
      "5 出现 94 次\n",
      "7 出现 85 次\n",
      "1 出现 95 次\n",
      "1 出现 95 次\n",
      "4 出现 87 次\n",
      "7 出现 85 次\n",
      "5 出现 94 次\n",
      "6 出现 97 次\n",
      "4 出现 87 次\n",
      "8 出现 97 次\n",
      "6 出现 97 次\n",
      "5 出现 94 次\n",
      "10 出现 80 次\n",
      "10 出现 80 次\n",
      "7 出现 85 次\n",
      "5 出现 94 次\n",
      "4 出现 87 次\n",
      "2 出现 83 次\n",
      "1 出现 95 次\n",
      "8 出现 97 次\n",
      "1 出现 95 次\n",
      "1 出现 95 次\n",
      "0 出现 92 次\n",
      "0 出现 92 次\n",
      "7 出现 85 次\n",
      "0 出现 92 次\n",
      "9 出现 97 次\n",
      "2 出现 83 次\n",
      "2 出现 83 次\n",
      "0 出现 92 次\n",
      "4 出现 87 次\n",
      "7 出现 85 次\n",
      "5 出现 94 次\n",
      "3 出现 93 次\n",
      "0 出现 92 次\n",
      "8 出现 97 次\n",
      "0 出现 92 次\n",
      "5 出现 94 次\n",
      "6 出现 97 次\n",
      "4 出现 87 次\n",
      "5 出现 94 次\n",
      "9 出现 97 次\n",
      "6 出现 97 次\n",
      "7 出现 85 次\n",
      "1 出现 95 次\n",
      "2 出现 83 次\n",
      "0 出现 92 次\n",
      "3 出现 93 次\n",
      "9 出现 97 次\n",
      "6 出现 97 次\n",
      "2 出现 83 次\n",
      "9 出现 97 次\n",
      "4 出现 87 次\n",
      "5 出现 94 次\n",
      "9 出现 97 次\n",
      "9 出现 97 次\n",
      "10 出现 80 次\n",
      "10 出现 80 次\n",
      "9 出现 97 次\n",
      "5 出现 94 次\n",
      "4 出现 87 次\n",
      "3 出现 93 次\n",
      "0 出现 92 次\n",
      "0 出现 92 次\n",
      "3 出现 93 次\n",
      "6 出现 97 次\n",
      "5 出现 94 次\n",
      "5 出现 94 次\n",
      "0 出现 92 次\n",
      "1 出现 95 次\n",
      "8 出现 97 次\n",
      "5 出现 94 次\n",
      "2 出现 83 次\n",
      "1 出现 95 次\n",
      "5 出现 94 次\n",
      "7 出现 85 次\n",
      "5 出现 94 次\n",
      "9 出现 97 次\n",
      "5 出现 94 次\n",
      "4 出现 87 次\n",
      "7 出现 85 次\n",
      "9 出现 97 次\n",
      "2 出现 83 次\n",
      "8 出现 97 次\n",
      "2 出现 83 次\n",
      "7 出现 85 次\n",
      "10 出现 80 次\n",
      "9 出现 97 次\n",
      "10 出现 80 次\n",
      "9 出现 97 次\n",
      "4 出现 87 次\n",
      "7 出现 85 次\n",
      "9 出现 97 次\n",
      "5 出现 94 次\n",
      "4 出现 87 次\n",
      "6 出现 97 次\n",
      "8 出现 97 次\n",
      "1 出现 95 次\n",
      "0 出现 92 次\n",
      "0 出现 92 次\n",
      "0 出现 92 次\n",
      "1 出现 95 次\n",
      "9 出现 97 次\n",
      "6 出现 97 次\n",
      "9 出现 97 次\n",
      "5 出现 94 次\n",
      "4 出现 87 次\n",
      "1 出现 95 次\n",
      "1 出现 95 次\n",
      "3 出现 93 次\n",
      "6 出现 97 次\n",
      "3 出现 93 次\n",
      "0 出现 92 次\n",
      "3 出现 93 次\n",
      "5 出现 94 次\n",
      "2 出现 83 次\n",
      "3 出现 93 次\n",
      "8 出现 97 次\n",
      "10 出现 80 次\n",
      "1 出现 95 次\n",
      "7 出现 85 次\n",
      "9 出现 97 次\n",
      "6 出现 97 次\n",
      "8 出现 97 次\n",
      "6 出现 97 次\n",
      "1 出现 95 次\n",
      "1 出现 95 次\n",
      "1 出现 95 次\n",
      "1 出现 95 次\n",
      "1 出现 95 次\n",
      "0 出现 92 次\n",
      "10 出现 80 次\n",
      "8 出现 97 次\n",
      "9 出现 97 次\n",
      "0 出现 92 次\n",
      "5 出现 94 次\n",
      "4 出现 87 次\n",
      "2 出现 83 次\n",
      "5 出现 94 次\n",
      "4 出现 87 次\n",
      "0 出现 92 次\n",
      "0 出现 92 次\n",
      "4 出现 87 次\n",
      "7 出现 85 次\n",
      "3 出现 93 次\n",
      "0 出现 92 次\n",
      "3 出现 93 次\n",
      "8 出现 97 次\n",
      "5 出现 94 次\n",
      "0 出现 92 次\n",
      "7 出现 85 次\n",
      "4 出现 87 次\n",
      "3 出现 93 次\n",
      "10 出现 80 次\n",
      "4 出现 87 次\n",
      "7 出现 85 次\n",
      "6 出现 97 次\n",
      "6 出现 97 次\n",
      "2 出现 83 次\n",
      "1 出现 95 次\n",
      "0 出现 92 次\n",
      "0 出现 92 次\n",
      "0 出现 92 次\n",
      "2 出现 83 次\n",
      "10 出现 80 次\n",
      "0 出现 92 次\n",
      "3 出现 93 次\n",
      "9 出现 97 次\n",
      "1 出现 95 次\n",
      "10 出现 80 次\n",
      "0 出现 92 次\n",
      "1 出现 95 次\n",
      "9 出现 97 次\n",
      "5 出现 94 次\n",
      "9 出现 97 次\n",
      "1 出现 95 次\n",
      "2 出现 83 次\n",
      "5 出现 94 次\n",
      "2 出现 83 次\n",
      "4 出现 87 次\n",
      "2 出现 83 次\n",
      "5 出现 94 次\n",
      "7 出现 85 次\n",
      "8 出现 97 次\n",
      "8 出现 97 次\n",
      "5 出现 94 次\n",
      "6 出现 97 次\n",
      "8 出现 97 次\n",
      "5 出现 94 次\n",
      "8 出现 97 次\n",
      "9 出现 97 次\n",
      "0 出现 92 次\n",
      "7 出现 85 次\n",
      "3 出现 93 次\n",
      "6 出现 97 次\n",
      "0 出现 92 次\n",
      "5 出现 94 次\n",
      "9 出现 97 次\n",
      "4 出现 87 次\n",
      "5 出现 94 次\n",
      "3 出现 93 次\n",
      "6 出现 97 次\n",
      "3 出现 93 次\n",
      "6 出现 97 次\n",
      "6 出现 97 次\n",
      "10 出现 80 次\n",
      "5 出现 94 次\n",
      "7 出现 85 次\n",
      "8 出现 97 次\n",
      "9 出现 97 次\n",
      "4 出现 87 次\n",
      "9 出现 97 次\n",
      "1 出现 95 次\n",
      "0 出现 92 次\n",
      "4 出现 87 次\n",
      "6 出现 97 次\n",
      "9 出现 97 次\n",
      "2 出现 83 次\n",
      "1 出现 95 次\n",
      "1 出现 95 次\n",
      "0 出现 92 次\n",
      "1 出现 95 次\n",
      "8 出现 97 次\n",
      "10 出现 80 次\n",
      "3 出现 93 次\n",
      "0 出现 92 次\n",
      "3 出现 93 次\n",
      "1 出现 95 次\n",
      "3 出现 93 次\n",
      "7 出现 85 次\n",
      "2 出现 83 次\n",
      "6 出现 97 次\n",
      "4 出现 87 次\n",
      "1 出现 95 次\n",
      "0 出现 92 次\n",
      "2 出现 83 次\n",
      "1 出现 95 次\n",
      "8 出现 97 次\n",
      "6 出现 97 次\n",
      "4 出现 87 次\n",
      "1 出现 95 次\n",
      "3 出现 93 次\n",
      "6 出现 97 次\n",
      "2 出现 83 次\n",
      "4 出现 87 次\n",
      "0 出现 92 次\n",
      "2 出现 83 次\n",
      "10 出现 80 次\n",
      "5 出现 94 次\n",
      "7 出现 85 次\n",
      "10 出现 80 次\n",
      "5 出现 94 次\n",
      "10 出现 80 次\n",
      "1 出现 95 次\n",
      "5 出现 94 次\n",
      "1 出现 95 次\n",
      "9 出现 97 次\n",
      "4 出现 87 次\n",
      "9 出现 97 次\n",
      "2 出现 83 次\n",
      "4 出现 87 次\n",
      "10 出现 80 次\n",
      "9 出现 97 次\n",
      "8 出现 97 次\n",
      "4 出现 87 次\n",
      "4 出现 87 次\n",
      "6 出现 97 次\n",
      "0 出现 92 次\n",
      "10 出现 80 次\n",
      "9 出现 97 次\n",
      "7 出现 85 次\n",
      "2 出现 83 次\n",
      "9 出现 97 次\n",
      "0 出现 92 次\n",
      "5 出现 94 次\n",
      "3 出现 93 次\n",
      "5 出现 94 次\n",
      "10 出现 80 次\n",
      "2 出现 83 次\n",
      "4 出现 87 次\n",
      "0 出现 92 次\n",
      "5 出现 94 次\n",
      "5 出现 94 次\n",
      "4 出现 87 次\n",
      "6 出现 97 次\n",
      "7 出现 85 次\n",
      "4 出现 87 次\n",
      "1 出现 95 次\n",
      "1 出现 95 次\n",
      "9 出现 97 次\n",
      "2 出现 83 次\n",
      "10 出现 80 次\n",
      "9 出现 97 次\n",
      "2 出现 83 次\n",
      "8 出现 97 次\n",
      "1 出现 95 次\n",
      "7 出现 85 次\n",
      "7 出现 85 次\n",
      "10 出现 80 次\n",
      "5 出现 94 次\n",
      "6 出现 97 次\n",
      "4 出现 87 次\n",
      "10 出现 80 次\n",
      "0 出现 92 次\n",
      "6 出现 97 次\n",
      "1 出现 95 次\n",
      "7 出现 85 次\n",
      "7 出现 85 次\n",
      "1 出现 95 次\n",
      "5 出现 94 次\n",
      "5 出现 94 次\n",
      "5 出现 94 次\n",
      "4 出现 87 次\n",
      "1 出现 95 次\n",
      "0 出现 92 次\n",
      "4 出现 87 次\n",
      "1 出现 95 次\n",
      "4 出现 87 次\n",
      "1 出现 95 次\n",
      "8 出现 97 次\n",
      "0 出现 92 次\n",
      "8 出现 97 次\n",
      "2 出现 83 次\n",
      "8 出现 97 次\n",
      "1 出现 95 次\n",
      "4 出现 87 次\n",
      "5 出现 94 次\n",
      "3 出现 93 次\n",
      "8 出现 97 次\n",
      "3 出现 93 次\n",
      "8 出现 97 次\n",
      "7 出现 85 次\n",
      "10 出现 80 次\n",
      "0 出现 92 次\n",
      "1 出现 95 次\n",
      "6 出现 97 次\n",
      "8 出现 97 次\n",
      "3 出现 93 次\n",
      "1 出现 95 次\n",
      "0 出现 92 次\n",
      "3 出现 93 次\n",
      "2 出现 83 次\n",
      "1 出现 95 次\n",
      "9 出现 97 次\n",
      "0 出现 92 次\n",
      "0 出现 92 次\n",
      "5 出现 94 次\n",
      "8 出现 97 次\n",
      "0 出现 92 次\n",
      "9 出现 97 次\n",
      "0 出现 92 次\n",
      "6 出现 97 次\n",
      "8 出现 97 次\n",
      "8 出现 97 次\n",
      "6 出现 97 次\n",
      "3 出现 93 次\n",
      "6 出现 97 次\n",
      "3 出现 93 次\n",
      "2 出现 83 次\n",
      "6 出现 97 次\n",
      "2 出现 83 次\n",
      "1 出现 95 次\n",
      "1 出现 95 次\n",
      "9 出现 97 次\n",
      "1 出现 95 次\n",
      "3 出现 93 次\n",
      "9 出现 97 次\n",
      "7 出现 85 次\n",
      "0 出现 92 次\n",
      "1 出现 95 次\n",
      "10 出现 80 次\n",
      "3 出现 93 次\n",
      "2 出现 83 次\n",
      "1 出现 95 次\n",
      "10 出现 80 次\n",
      "7 出现 85 次\n",
      "4 出现 87 次\n",
      "2 出现 83 次\n",
      "6 出现 97 次\n",
      "9 出现 97 次\n",
      "4 出现 87 次\n",
      "3 出现 93 次\n",
      "1 出现 95 次\n",
      "3 出现 93 次\n",
      "5 出现 94 次\n",
      "2 出现 83 次\n",
      "4 出现 87 次\n",
      "3 出现 93 次\n",
      "3 出现 93 次\n",
      "8 出现 97 次\n",
      "1 出现 95 次\n",
      "2 出现 83 次\n",
      "1 出现 95 次\n",
      "6 出现 97 次\n",
      "4 出现 87 次\n",
      "0 出现 92 次\n",
      "9 出现 97 次\n",
      "6 出现 97 次\n",
      "10 出现 80 次\n",
      "1 出现 95 次\n",
      "2 出现 83 次\n",
      "7 出现 85 次\n",
      "6 出现 97 次\n",
      "9 出现 97 次\n",
      "5 出现 94 次\n",
      "8 出现 97 次\n",
      "1 出现 95 次\n",
      "10 出现 80 次\n",
      "4 出现 87 次\n",
      "0 出现 92 次\n",
      "7 出现 85 次\n",
      "10 出现 80 次\n",
      "6 出现 97 次\n",
      "9 出现 97 次\n",
      "0 出现 92 次\n",
      "0 出现 92 次\n",
      "2 出现 83 次\n",
      "6 出现 97 次\n",
      "0 出现 92 次\n",
      "9 出现 97 次\n",
      "2 出现 83 次\n",
      "8 出现 97 次\n",
      "3 出现 93 次\n",
      "10 出现 80 次\n",
      "5 出现 94 次\n",
      "6 出现 97 次\n"
     ]
    },
    {
     "name": "stdout",
     "output_type": "stream",
     "text": [
      "2 出现 83 次\n",
      "5 出现 94 次\n",
      "8 出现 97 次\n",
      "8 出现 97 次\n",
      "0 出现 92 次\n",
      "1 出现 95 次\n",
      "6 出现 97 次\n",
      "9 出现 97 次\n",
      "9 出现 97 次\n",
      "5 出现 94 次\n",
      "7 出现 85 次\n",
      "3 出现 93 次\n",
      "1 出现 95 次\n",
      "4 出现 87 次\n",
      "7 出现 85 次\n",
      "6 出现 97 次\n",
      "5 出现 94 次\n",
      "1 出现 95 次\n",
      "9 出现 97 次\n",
      "4 出现 87 次\n",
      "9 出现 97 次\n",
      "8 出现 97 次\n",
      "10 出现 80 次\n",
      "2 出现 83 次\n",
      "4 出现 87 次\n",
      "0 出现 92 次\n",
      "10 出现 80 次\n",
      "0 出现 92 次\n",
      "9 出现 97 次\n",
      "10 出现 80 次\n",
      "10 出现 80 次\n",
      "10 出现 80 次\n",
      "7 出现 85 次\n",
      "9 出现 97 次\n",
      "7 出现 85 次\n",
      "9 出现 97 次\n",
      "8 出现 97 次\n",
      "2 出现 83 次\n",
      "6 出现 97 次\n",
      "0 出现 92 次\n",
      "4 出现 87 次\n"
     ]
    }
   ],
   "source": [
    "import random\n",
    "a = [random.randint(0,10) for i in range(1000)]\n",
    "for i in a:\n",
    "    b=a.count(i)\n",
    "    print(i,'出现',b,'次')"
   ]
  },
  {
   "cell_type": "markdown",
   "metadata": {},
   "source": [
    "- 6\n",
    "![](../Photo/126.png)"
   ]
  },
  {
   "cell_type": "code",
   "execution_count": 100,
   "metadata": {},
   "outputs": [],
   "source": [
    "def A(lieb):\n",
    "    lieb_min = min(lieb)\n",
    "    b = lieb.index(lieb_min)\n",
    "    print('最小元素的下标是',b)"
   ]
  },
  {
   "cell_type": "code",
   "execution_count": 101,
   "metadata": {},
   "outputs": [
    {
     "name": "stdout",
     "output_type": "stream",
     "text": [
      "最小元素的下标是 1\n"
     ]
    }
   ],
   "source": [
    "A(lieb=[7,5,69,8])"
   ]
  },
  {
   "cell_type": "markdown",
   "metadata": {},
   "source": [
    "- 7\n",
    "![](../Photo/127.png)\n",
    "![](../Photo/128.png)"
   ]
  },
  {
   "cell_type": "code",
   "execution_count": 105,
   "metadata": {},
   "outputs": [
    {
     "name": "stdout",
     "output_type": "stream",
     "text": [
      "None\n"
     ]
    }
   ],
   "source": [
    "import random\n",
    "lst=[1,2,5,48,7,9,7,6]\n",
    "a =random.shuffle(lst)\n",
    "print(a)"
   ]
  },
  {
   "cell_type": "markdown",
   "metadata": {},
   "source": [
    "- 8\n",
    "![](../Photo/129.png)"
   ]
  },
  {
   "cell_type": "code",
   "execution_count": 106,
   "metadata": {},
   "outputs": [],
   "source": [
    "def A(lieb):\n",
    "    a=set(lieb)\n",
    "    print(a)"
   ]
  },
  {
   "cell_type": "code",
   "execution_count": 107,
   "metadata": {},
   "outputs": [
    {
     "name": "stdout",
     "output_type": "stream",
     "text": [
      "{1, 2, 3, 4, 5, 6}\n"
     ]
    }
   ],
   "source": [
    "A(lieb=[1,2,3,2,1,6,3,4,5,2])"
   ]
  },
  {
   "cell_type": "markdown",
   "metadata": {},
   "source": [
    "- 9\n",
    "![](../Photo/130.png)"
   ]
  },
  {
   "cell_type": "code",
   "execution_count": 108,
   "metadata": {},
   "outputs": [],
   "source": [
    "def IsListSorted_guess(lst):\n",
    "    listLen = len(lst)\n",
    "    if listLen <= 1:\n",
    "        return True\n",
    "\n",
    "    #由首个元素和末尾元素猜测可能的排序规则\n",
    "    if lst[0] == lst[-1]: #列表元素相同\n",
    "        for elem in lst:\n",
    "            if elem != lst[0]: return False\n",
    "    elif lst[0] < lst[-1]: #列表元素升序\n",
    "        for i, elem in enumerate(lst[1:]):\n",
    "            if elem < lst[i]: return False\n",
    "    else: #列表元素降序\n",
    "        for i, elem in enumerate(lst[1:]):\n",
    "            if elem > lst[i]: return False\n",
    "\n",
    "    return True"
   ]
  },
  {
   "cell_type": "code",
   "execution_count": 109,
   "metadata": {},
   "outputs": [
    {
     "data": {
      "text/plain": [
       "False"
      ]
     },
     "execution_count": 109,
     "metadata": {},
     "output_type": "execute_result"
    }
   ],
   "source": [
    "IsListSorted_guess(lst=[1,1,3,4,4,5,7,9,10,30,11])"
   ]
  },
  {
   "cell_type": "markdown",
   "metadata": {},
   "source": [
    "- 10\n",
    "![](../Photo/131.png)"
   ]
  },
  {
   "cell_type": "code",
   "execution_count": 119,
   "metadata": {},
   "outputs": [
    {
     "name": "stdout",
     "output_type": "stream",
     "text": [
      "[1, 5, 5, 7, 8, 9, 12, 54, 63, 95]\n"
     ]
    }
   ],
   "source": [
    "a=[1,5,9,8,7,5,63,54,95,12] \n",
    "b=len(a)                         \n",
    "for i in range(b-1):     \n",
    "    for j in range(b-1-i): \n",
    "        if a[j]>a[j+1]:    \n",
    "            a[j],a[j+1]=a[j+1],a[j]\n",
    "print(a)"
   ]
  },
  {
   "cell_type": "markdown",
   "metadata": {},
   "source": [
    "- 11\n",
    "![](../Photo/132.png)"
   ]
  },
  {
   "cell_type": "code",
   "execution_count": null,
   "metadata": {},
   "outputs": [],
   "source": []
  },
  {
   "cell_type": "markdown",
   "metadata": {},
   "source": [
    "- 12\n",
    "![](../Photo/133.png)"
   ]
  },
  {
   "cell_type": "code",
   "execution_count": null,
   "metadata": {},
   "outputs": [],
   "source": [
    "def A(xul):\n",
    "    "
   ]
  },
  {
   "cell_type": "code",
   "execution_count": null,
   "metadata": {},
   "outputs": [],
   "source": [
    "A(xul=[1,1,1,1,5,2,0])"
   ]
  }
 ],
 "metadata": {
  "kernelspec": {
   "display_name": "Python 3",
   "language": "python",
   "name": "python3"
  },
  "language_info": {
   "codemirror_mode": {
    "name": "ipython",
    "version": 3
   },
   "file_extension": ".py",
   "mimetype": "text/x-python",
   "name": "python",
   "nbconvert_exporter": "python",
   "pygments_lexer": "ipython3",
   "version": "3.7.3"
  }
 },
 "nbformat": 4,
 "nbformat_minor": 2
}
